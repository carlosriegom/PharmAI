{
 "cells": [
  {
   "cell_type": "markdown",
   "id": "00dfee6a",
   "metadata": {},
   "source": [
    "## **Contar tokens**\n",
    "Este notebook tiene como objetivo contar el número de tokens en el prompt usado por el chatbot, ya que algunos modelos como `GPT-2` tienen un límite de tokens (1024). "
   ]
  },
  {
   "cell_type": "markdown",
   "id": "91a4f75f",
   "metadata": {},
   "source": [
    "---\n",
    "### **Librerías**"
   ]
  },
  {
   "cell_type": "code",
   "execution_count": 5,
   "id": "d74a0a44",
   "metadata": {},
   "outputs": [
    {
     "name": "stderr",
     "output_type": "stream",
     "text": [
      "/opt/miniconda3/envs/PharmAI/lib/python3.11/site-packages/tqdm/auto.py:21: TqdmWarning: IProgress not found. Please update jupyter and ipywidgets. See https://ipywidgets.readthedocs.io/en/stable/user_install.html\n",
      "  from .autonotebook import tqdm as notebook_tqdm\n"
     ]
    }
   ],
   "source": [
    "from transformers import LlamaTokenizer\n",
    "import tiktoken"
   ]
  },
  {
   "cell_type": "markdown",
   "id": "044606d0",
   "metadata": {},
   "source": [
    "---\n",
    "### **1. Definir textos**"
   ]
  },
  {
   "cell_type": "code",
   "execution_count": 6,
   "id": "3bd14030",
   "metadata": {},
   "outputs": [],
   "source": [
    "# Prompt para el modelo Llama 2 Chat 7B\n",
    "prompt_llama2 = \"\"\"\n",
    "    1. OBJETIVO GENERAL:\n",
    "    Eres un asistente médico especializado en información sobre medicamentos. Debes responder a la pregunta del usuario basándote únicamente en la información proporcionada. No debes inventar ni suponer información adicional.\n",
    "\n",
    "    2. FORMATO DEL CONTEXTO:\n",
    "    El contexto se presenta como un texto con varios fragmentos que contiene información de uno o varios medicamentos presentes en la pregunta del ususario, donde cada fragmento tiene el siguiente formato:\n",
    "    - Medicamento: Nombre del medicamento\n",
    "    - Categoría: Categoría de la información (ej. efectos secundarios, interacciones)\n",
    "    - Información: Texto relevante sobre el medicamento, el cual debes analizar antes de responder.\n",
    "\n",
    "    3. FORMATO DE RESPUESTA:\n",
    "    - Debes responder de manera clara y precisa a la pregunta formulada por el usuario, utilizando ÚNICAMENTE el contexto que se te está proporcionando. \n",
    "    - No debes inventar información ni suponer datos que no estén presentes en el contexto.\n",
    "    - Si la información proporcionada no es suficiente para responder completamente, dilo e indica qué datos faltan.\n",
    "    - Incluye una mención explícita a los textos que respaldan tu respuesta, indicando para todos ellos el medicamento y la categoría.\n",
    "    - Si la pregunta no está relacionada con medicamentos, indica que no puedes ayudar en ese caso.\n",
    "\n",
    "    4. EJEMPLO DE CONSULTA Y DE RESPUESTA ESPERADA:\n",
    "    Pregunta: ¿Cuáles son los efectos secundarios de la aspirina?\n",
    "    Contexto:\n",
    "        \"medicamento\": \"Aspirina\"\n",
    "        \"categoria\": \"efectos_secundarios\"\n",
    "        \"texto\": \"Puede causar náuseas y dolor de estómago.\"\n",
    "    Respuesta:\n",
    "    La aspirina puede causar efectos secundarios como náuseas y dolor de estómago (extraído de la ficha técnica, de la sección \"efectos_secundarios\" del medicamento \"ASPIRINA\": \"la aspirina tiene como efectos secundarios, entre ottros, la aparición de náuseas y dolor de tripa\"). Si necesitas más detalles, por favor consulta la ficha técnica completa.\n",
    "\n",
    "    5. INSTRUCCIONES FINALES:\n",
    "    Básandote ÚNICAMENTE en la información proporcionada en ({context}), responde a la siguiente pregunta:\n",
    "    {query}\n",
    "    Respuesta:\"\"\""
   ]
  },
  {
   "cell_type": "code",
   "execution_count": 7,
   "id": "0c3621f6",
   "metadata": {},
   "outputs": [],
   "source": [
    "# Prompt para el modelo GPT-2\n",
    "prompt_gpt2 = \"\"\"\n",
    "Eres un asistente médico especializado en información sobre medicamentos. Debes responder a la pregunta del usuario basándote únicamente en la información proporcionada. No debes inventar ni suponer información adicional. Si recibes un contexto que no aporta información sobre medicamentos, responde que no puedes responder a la pregunta.\n",
    "\n",
    "Contexto:\n",
    "{context}\n",
    "\n",
    "Pregunta: {query}\n",
    "Respuesta:\"\"\""
   ]
  },
  {
   "cell_type": "code",
   "execution_count": 8,
   "id": "34af1ab9",
   "metadata": {},
   "outputs": [],
   "source": [
    "# Contexto con 10 fragmentos\n",
    "contexto_10_fragmentos = \"\"\"Contexto: \n",
    "Fragmento 1:\n",
    "Medicamento: ibuprofeno sandoz\n",
    "Categoría: efectos_conducir\n",
    "Información: para el uso a corto plazo de ibuprofeno, no es necesario tomar precauciones especiales.\n",
    "\n",
    "Fragmento 2:\n",
    "Medicamento: ibuprofeno sandoz\n",
    "Categoría: efectos_conducir\n",
    "Información: para el uso a corto plazo de ibuprofeno, no es necesario tomar precauciones especiales.\n",
    "\n",
    "Fragmento 3:\n",
    "Medicamento: ibuprofeno ambah\n",
    "Categoría: incompatibilidades\n",
    "Información: ibuprofeno ambah no debe mezclarse con otros medicamentos.\n",
    "\n",
    "Fragmento 4:\n",
    "Medicamento: ibuprofeno cinfa\n",
    "Categoría: indicaciones\n",
    "Información: ibuprofeno está indicado en niños a partir de 3 meses y hasta 12 años para el: alivio sintomático de los dolores ocasionales leves o moderados. estados febriles.\n",
    "\n",
    "Fragmento 5:\n",
    "Medicamento: eudorlin infantil\n",
    "Categoría: interacciones\n",
    "Información: el ibuprofeno (al igual que otros aine) debe combinarse con precaución con los siguientes medicamentos: otros aine, incluyendo salicilatos: la administración concomitante de diferentes aine puede aumentar el riesgo de úlceras gastrointestinales y hemorragias debido a un efecto sinérgico. por tanto, debe evitarse el uso concomitante de ibuprofeno con otros aine digoxina, fenitoina, litio: el uso concomitante de eudorlin infantil con digoxina, fenitoina y litio puede aumentar los niveles séricos de estos medicamentos. generalmente, no se requiere un control de los niveles séricos de digoxina, fenitoina y litio si se usan correctamente (máximo a partir de los 3 días). diuréticos, inhibidores del eca, betabloqueantes y antagonistas de angiotensina ii: los aine pueden reducir el efecto de los diuréticos y de otros medicamentos antihipertensivos. en pacientes con deterioro de la función renal (p. ej., pacientes deshidratados o pacientes de edad avanzada con deterioro de la función renal) la administración combinada de inhibidores de eca, betabloqueantes o antagonistas de la angiotensina ii y agentes que inhiben la ciclooxigenasa pueden ocasionar un deterioro adicional de la función renal, incluso una posible insuficiencia renal aguda, que normalmente es reversible. por tanto, esta combinación debe administrarse con precaución, especialmente en personas de edad avanzada. los pacientes deberán hidratarse adecuadamente y una vez comenzado el tratamiento concomitante deberán someterse a un control periódico de la función renal. la administración concomitante de eudorlin infantil y diuréticos ahorradores de potasio puede dar lugar a hiperpotasemia. corticosteroides: aumento del riesgo de úlcera o hemorragia gastrointestinal agentes antiagragantes plaquetarios e inhibidores selectivos de la recaptación de serotonina (isrs): aumento del riesgo de hemorragia gastrointestinal ácido acetilsalicílico en general, no se recomienda la administración concomitante de ibuprofeno y ácido a...\n",
    "\n",
    "Fragmento 6:\n",
    "Medicamento: neobrufen con codeina\n",
    "Categoría: advertencias\n",
    "Información: las reacciones adversas se pueden minimizar utilizando la dosis eficaz más baja durante el menor tiempo necesario para aliviar los síntomas y secciones posteriores). al igual que sucede con otros opioides, si el control del dolor es insuficiente pese al aumento de la dosis de codeína, debe considerarse la posibilidad de hiperalgesia inducida por fármacos. puede estar indicada la reducción de la dosis o la revisión del tratamiento. advertencias debidas al ibuprofeno enmascaramiento de los síntomas de infecciones subyacentes: como cualquier otro aine, el ibuprofeno puede enmascarar los síntomas de una infección, lo que puede retrasar el inicio del tratamiento adecuado y, por tanto, empeorar el desenlace de la infección. esto se ha observado en la neumonía bacteriana extrahospitalaria y en las complicaciones bacterianas de la varicela. cuando se administre ibuprofeno para aliviar la fiebre o el dolor relacionados con una infección, se recomienda vigilar la infección. en entornos no hospitalarios, el paciente debe consultar a un médico si los síntomas persisten o empeoran. con el uso prolongado de analgésicos pueden aparecer dolores de cabeza que no deben ser tratados incrementando la dosis del producto. las reacciones adversas provocadas por ibuprofeno, especialmente las relacionadas con el tracto gastrointestinal o sistema nervioso, pueden verse aumentadas por el consumo de alcohol. riesgos gastrointestinales hemorragias gastrointestinales, úlceras y perforaciones: durante el tratamiento con antiinflamatorios no esteroideos (aines) entre ibuprofeno, se han notificado hemorragias gastrointestinales, úlceras y perforaciones (que pueden ser mortales) en cualquier momento del mismo, con o sin síntomas previos de alerta y con o sin antecedentes previos de acontecimientos gastrointestinales graves previos los que se encuentra el riesgo de hemorragia gastrointestinal, úlcera o perforación es mayor cuando se utilizan dosis crecientes de aines, en pacientes con antecedentes de...\n",
    "\n",
    "Fragmento 7:\n",
    "Medicamento: ibuprofeno aristogen\n",
    "Categoría: efectos_conducir\n",
    "Información: el ibuprofeno generalmente tiene una influencia nula o insignificante en la capacidad para conducir y utilizar máquinas. sin embargo, dado que a dosis más altas pueden producirse efectos adversos en el sistema nervioso central, como cansancio y mareos, los pacientes que están en tratamiento con ibuprofeno pueden ver afectado su tiempo de reacción, lo que debe ser tenido en cuenta a la hora de realizar actividades que requieren una mayor vigilancia, como por ejemplo conducir o utilizar maquinaria. esto se aplica en mayor medida a la combinación con alcohol.\n",
    "\n",
    "Fragmento 8:\n",
    "Medicamento: difenadol\n",
    "Categoría: efectos_conducir\n",
    "Información: ibuprofeno generalmente tiene una influencia nula o insignificante en la capacidad para conducir y utilizar máquinas. sin embargo, dado que a dosis más altas pueden producirse efectos adversos en el sistema nervioso central, como cansancio y mareos, los pacientes que están en tratamiento con ibuprofeno pueden ver afectado su tiempo de reacción, lo que debe ser tenido en cuenta a la hora de realizar actividades que requieren una mayor vigilancia, como por ejemplo conducir o utilizar maquinaria. esto se aplica en mayor medida a la combinación con alcohol.\n",
    "\n",
    "Fragmento 9:\n",
    "Medicamento: diltix\n",
    "Categoría: efectos_conducir\n",
    "Información: ibuprofeno generalmente tiene una influencia nula o insignificante en la capacidad para conducir y utilizar máquinas. sin embargo, dado que a dosis más altas pueden producirse efectos adversos en el sistema nervioso central, como cansancio y mareos, los pacientes que están en tratamiento con ibuprofeno pueden ver afectado su tiempo de reacción, lo que debe ser tenido en cuenta a la hora de realizar actividades que requieren una mayor vigilancia, como por ejemplo conducir o utilizar maquinaria. esto se aplica en mayor medida a la combinación con alcohol.\n",
    "\n",
    "Fragmento 10:\n",
    "Medicamento: diltix\n",
    "Categoría: efectos_conducir\n",
    "Información: ibuprofeno generalmente tiene una influencia nula o insignificante en la capacidad para conducir y utilizar máquinas. sin embargo, dado que a dosis más altas pueden producirse efectos adversos en el sistema nervioso central, como cansancio y mareos, los pacientes que están en tratamiento con ibuprofeno pueden ver afectado su tiempo de reacción, lo que debe ser tenido en cuenta a la hora de realizar actividades que requieren una mayor vigilancia, como por ejemplo conducir o utilizar maquinaria. esto se aplica en mayor medida a la combinación con alcohol.\n",
    "\n",
    "\n",
    "\"\"\""
   ]
  },
  {
   "cell_type": "code",
   "execution_count": 19,
   "id": "8475fa84",
   "metadata": {},
   "outputs": [],
   "source": [
    "# Contexto con 3 fragmentos\n",
    "contexto_3_fragmentos = \"\"\"Contexto: \n",
    "Fragmento 1:\n",
    "Medicamento: ibuprofeno sandoz\n",
    "Categoría: efectos_conducir\n",
    "Información: para el uso a corto plazo de ibuprofeno, no es necesario tomar precauciones especiales.\n",
    "\n",
    "Fragmento 2:\n",
    "Medicamento: ibuprofeno sandoz\n",
    "Categoría: efectos_conducir\n",
    "Información: para el uso a corto plazo de ibuprofeno, no es necesario tomar precauciones especiales.\n",
    "\n",
    "Fragmento 3:\n",
    "Medicamento: eudorlin infantil\n",
    "Categoría: interacciones\n",
    "Información: el ibuprofeno (al igual que otros aine) debe combinarse con precaución con los siguientes medicamentos: otros aine, incluyendo salicilatos: la administración concomitante de diferentes aine puede aumentar el riesgo de úlceras gastrointestinales y hemorragias debido a un efecto sinérgico. por tanto, debe evitarse el uso concomitante de ibuprofeno con otros aine digoxina, fenitoina, litio: el uso concomitante de eudorlin infantil con digoxina, fenitoina y litio puede aumentar los niveles séricos de estos medicamentos. generalmente, no se requiere un control de los niveles séricos de digoxina, fenitoina y litio si se usan correctamente (máximo a partir de los 3 días). diuréticos, inhibidores del eca, betabloqueantes y antagonistas de angiotensina ii: los aine pueden reducir el efecto de los diuréticos y de otros medicamentos antihipertensivos. en pacientes con deterioro de la función renal (p. ej., pacientes deshidratados o pacientes de edad avanzada con deterioro de la función renal) la administración combinada de inhibidores de eca, betabloqueantes o antagonistas de la angiotensina ii y agentes que inhiben la ciclooxigenasa pueden ocasionar un deterioro adicional de la función renal, incluso una posible insuficiencia renal aguda, que normalmente es reversible. por tanto, esta combinación debe administrarse con precaución, especialmente en personas de edad avanzada. los pacientes deberán hidratarse adecuadamente y una vez comenzado el tratamiento concomitante deberán someterse a un control periódico de la función renal. la administración concomitante de eudorlin infantil y diuréticos ahorradores de potasio puede dar lugar a hiperpotasemia. corticosteroides: aumento del riesgo de úlcera o hemorragia gastrointestinal agentes antiagragantes plaquetarios e inhibidores selectivos de la recaptación de serotonina (isrs): aumento del riesgo de hemorragia gastrointestinal ácido acetilsalicílico en general, no se recomienda la administración concomitante de ibuprofeno y ácido a...\n",
    "\"\"\""
   ]
  },
  {
   "cell_type": "markdown",
   "id": "0b1614e6",
   "metadata": {},
   "source": [
    "---\n",
    "### **2. Contar tokens (modelo `Llama 2 chat 7b`)**"
   ]
  },
  {
   "cell_type": "code",
   "execution_count": 10,
   "id": "db103891",
   "metadata": {},
   "outputs": [],
   "source": [
    "def count_tokens_llama2(text):\n",
    "    # Carga el tokenizer de Llama 2 Chat 7B\n",
    "    tokenizer_llama2 = LlamaTokenizer.from_pretrained(\"meta-llama/Llama-2-7b-chat-hf\")\n",
    "\n",
    "    # Obtén los IDs de tokens y cuenta\n",
    "    ids = tokenizer_llama2(text).input_ids\n",
    "    num_tokens = len(ids)\n",
    "\n",
    "    print(f\"Número de tokens: {num_tokens}\")\n",
    "\n",
    "    return num_tokens"
   ]
  },
  {
   "cell_type": "code",
   "execution_count": 11,
   "id": "64ac08bb",
   "metadata": {},
   "outputs": [
    {
     "name": "stdout",
     "output_type": "stream",
     "text": [
      "Número de tokens: 657\n"
     ]
    },
    {
     "data": {
      "text/plain": [
       "657"
      ]
     },
     "execution_count": 11,
     "metadata": {},
     "output_type": "execute_result"
    }
   ],
   "source": [
    "# Prompt \n",
    "count_tokens_llama2(prompt_llama2)"
   ]
  },
  {
   "cell_type": "code",
   "execution_count": 12,
   "id": "98a9a38d",
   "metadata": {},
   "outputs": [
    {
     "name": "stdout",
     "output_type": "stream",
     "text": [
      "Número de tokens: 2200\n"
     ]
    },
    {
     "data": {
      "text/plain": [
       "2200"
      ]
     },
     "execution_count": 12,
     "metadata": {},
     "output_type": "execute_result"
    }
   ],
   "source": [
    "# Contexto con 10 fragmentos\n",
    "count_tokens_llama2(contexto_10_fragmentos)"
   ]
  },
  {
   "cell_type": "markdown",
   "id": "225893bb",
   "metadata": {},
   "source": [
    "---\n",
    "### **3. Contar tokens (modelo `GPT-2`)**"
   ]
  },
  {
   "cell_type": "code",
   "execution_count": 20,
   "id": "4efafa91",
   "metadata": {},
   "outputs": [],
   "source": [
    "def num_tokens_gpt2(texto: str) -> int:\n",
    "    \"\"\"\n",
    "    Cuenta el número de tokens usando el tokenizador GPT-2 de tiktoken.\n",
    "    \"\"\"\n",
    "    encoding = tiktoken.get_encoding(\"gpt2\")\n",
    "    num_tokens = len(encoding.encode(texto))\n",
    "    print(f\"Número de tokens: {num_tokens}\")"
   ]
  },
  {
   "cell_type": "code",
   "execution_count": 21,
   "id": "42199373",
   "metadata": {},
   "outputs": [
    {
     "name": "stdout",
     "output_type": "stream",
     "text": [
      "Número de tokens: 133\n"
     ]
    }
   ],
   "source": [
    "# Prompt\n",
    "num_tokens_gpt2(prompt_gpt2)"
   ]
  },
  {
   "cell_type": "code",
   "execution_count": 22,
   "id": "d53b5059",
   "metadata": {},
   "outputs": [
    {
     "name": "stdout",
     "output_type": "stream",
     "text": [
      "Número de tokens: 843\n"
     ]
    }
   ],
   "source": [
    "# Contexto 3 fragmentos\n",
    "num_tokens_gpt2(contexto_3_fragmentos)"
   ]
  },
  {
   "cell_type": "markdown",
   "id": "7e65b2a0",
   "metadata": {},
   "source": [
    "Con menos fragmentos (3 vs 10) y un prompt mucho más escueto, conseguimos reducir el número de tokens"
   ]
  },
  {
   "cell_type": "code",
   "execution_count": null,
   "id": "92d91a4e",
   "metadata": {},
   "outputs": [],
   "source": []
  }
 ],
 "metadata": {
  "kernelspec": {
   "display_name": "PharmAI",
   "language": "python",
   "name": "python3"
  },
  "language_info": {
   "codemirror_mode": {
    "name": "ipython",
    "version": 3
   },
   "file_extension": ".py",
   "mimetype": "text/x-python",
   "name": "python",
   "nbconvert_exporter": "python",
   "pygments_lexer": "ipython3",
   "version": "3.11.11"
  }
 },
 "nbformat": 4,
 "nbformat_minor": 5
}
