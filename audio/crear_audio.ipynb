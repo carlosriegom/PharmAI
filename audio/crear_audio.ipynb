{
 "cells": [
  {
   "cell_type": "markdown",
   "id": "2ec34016",
   "metadata": {},
   "source": [
    "## **Código para generar audio y guardarlo en ruta específica**\n",
    "---"
   ]
  },
  {
   "cell_type": "code",
   "execution_count": 1,
   "id": "846aee7d",
   "metadata": {},
   "outputs": [],
   "source": [
    "import os\n",
    "import numpy as np\n",
    "import sounddevice as sd\n",
    "from scipy.io.wavfile import write\n",
    "from IPython.display import Audio, display"
   ]
  },
  {
   "cell_type": "code",
   "execution_count": 2,
   "id": "8bf78c43",
   "metadata": {},
   "outputs": [],
   "source": [
    "def grabar_audio(clase: str, base_dir: str = 'data/outputs/6_audios', fs: int = 16000, duration: int = 5, nombre: str = None):\n",
    "    \"\"\"\n",
    "    Graba audio desde el micrófono y lo guarda en una carpeta específica con nombres iterativos.\n",
    "\n",
    "    Args:\n",
    "        clase (str): Subcarpeta dentro de base_dir donde se guardará el audio.\n",
    "        base_dir (str): Carpeta base donde se almacenarán los audios. Por defecto es 'data/outputs/6_audios'.\n",
    "        fs (int): Frecuencia de muestreo. Por defecto es 16000 Hz.\n",
    "        duration (int): Duración de la grabación en segundos. Por defecto es 5 segundos.\n",
    "    \"\"\"\n",
    "    # Crear la carpeta si no existe\n",
    "    output_dir = os.path.join(base_dir, clase)\n",
    "    os.makedirs(output_dir, exist_ok=True)\n",
    "\n",
    "    # Determinar el nombre del archivo iterativo\n",
    "    existing_files = [f for f in os.listdir(output_dir) if f.lower().endswith('.wav')]\n",
    "    next_index = len(existing_files) + 1\n",
    "    audio_filename = f'audio_{next_index}_{nombre}.wav'\n",
    "    audio_path = os.path.join(output_dir, audio_filename)\n",
    "\n",
    "    print(f'Grabando {duration}s de audio a {fs}Hz en {audio_path}...')\n",
    "\n",
    "    # Grabar audio\n",
    "    try:\n",
    "        recording = sd.rec(int(duration * fs), samplerate=fs, channels=1, dtype='float32')\n",
    "        sd.wait()  # Esperar a que termine\n",
    "        print('Grabación completada')\n",
    "        \n",
    "        # Guardar a WAV en la carpeta especificada\n",
    "        write(audio_path, fs, np.squeeze(recording))\n",
    "        display(Audio(audio_path, rate=fs))\n",
    "        return audio_path\n",
    "    except Exception as e:\n",
    "        print('No fue posible grabar:', e)\n",
    "        \n",
    "        # Fallback: tomar primer archivo de carpeta 'audio'\n",
    "        files = [f for f in os.listdir('audio') if f.lower().endswith('.wav')]\n",
    "        if files:\n",
    "            fallback_path = os.path.join('audio', files[0])\n",
    "            print('Usando archivo de prueba:', fallback_path)\n",
    "            display(Audio(fallback_path))\n",
    "            return fallback_path\n",
    "        else:\n",
    "            raise RuntimeError('No hay forma de obtener audio')"
   ]
  },
  {
   "cell_type": "markdown",
   "id": "85e0903f",
   "metadata": {},
   "source": [
    "Cambiar nombre al grabar el audio\n",
    "\n",
    "Cambiar nombre carpeta de salida: `efectos_adversos` o `otros`"
   ]
  },
  {
   "cell_type": "code",
   "execution_count": null,
   "id": "ca730069",
   "metadata": {},
   "outputs": [],
   "source": [
    "# grabamos un audio de prueba\n",
    "# administracion, efectos_secundarios, otros\n",
    "grabar_audio('efectos_adversos', base_dir='data/outputs/6_audio', fs=16000, duration=5, nombre='Pablo')"
   ]
  }
 ],
 "metadata": {
  "kernelspec": {
   "display_name": "PharmAI",
   "language": "python",
   "name": "python3"
  },
  "language_info": {
   "codemirror_mode": {
    "name": "ipython",
    "version": 3
   },
   "file_extension": ".py",
   "mimetype": "text/x-python",
   "name": "python",
   "nbconvert_exporter": "python",
   "pygments_lexer": "ipython3",
   "version": "3.11.11"
  }
 },
 "nbformat": 4,
 "nbformat_minor": 5
}
