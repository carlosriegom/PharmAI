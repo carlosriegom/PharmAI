{
 "cells": [
  {
   "cell_type": "code",
   "execution_count": null,
   "id": "bdea0ee5",
   "metadata": {},
   "outputs": [],
   "source": [
    "import numpy as np\n",
    "import librosa\n",
    "\n",
    "from librosa.display import specshow\n",
    "from librosa import amplitude_to_db\n",
    "import matplotlib.pyplot as plt\n",
    "import os\n",
    "\n",
    "from utils_audio import preprocess_audio"
   ]
  },
  {
   "cell_type": "code",
   "execution_count": 6,
   "id": "5b41e10e",
   "metadata": {},
   "outputs": [],
   "source": [
    "# Ruta al archivo de audio (en crudo)\n",
    "audio_path = os.path.join(\n",
    "    \"data\", \"outputs\", \"6_audio\", \"efectos_adversos\", \"audio_9_angel.wav\"\n",
    ")\n",
    "\n",
    "# Preprocesar el audio\n",
    "y_processed = preprocess_audio(\n",
    "    audio_path,\n",
    "    sr=16000,\n",
    "    trim_db=20.0,\n",
    "    lowcut=300.0,\n",
    "    highcut=3400.0,\n",
    "    pre_coef=0.97,\n",
    "    rms_target=0.1,\n",
    "    reduce_noise_flag=True,\n",
    ")"
   ]
  },
  {
   "cell_type": "code",
   "execution_count": 7,
   "id": "0787665d",
   "metadata": {},
   "outputs": [
    {
     "name": "stdout",
     "output_type": "stream",
     "text": [
      "Señal lista para extracción de features -- Duración: 4.16s, SR=16000Hz\n"
     ]
    }
   ],
   "source": [
    "y = y_processed  # Señal preprocesada\n",
    "sr = 16000  # Frecuencia de muestreo usada en preprocess_audio\n",
    "print(\n",
    "    f\"Señal lista para extracción de features -- Duración: {len(y)/sr:.2f}s, SR={sr}Hz\"\n",
    ")"
   ]
  },
  {
   "cell_type": "code",
   "execution_count": 8,
   "id": "8826a7d7",
   "metadata": {},
   "outputs": [
    {
     "name": "stderr",
     "output_type": "stream",
     "text": [
      "/var/folders/z5/zr60226s2gq4ynyhdp9jgp1h0000gn/T/ipykernel_92779/3652164017.py:10: UserWarning: FigureCanvasAgg is non-interactive, and thus cannot be shown\n",
      "  plt.show()\n",
      "/var/folders/z5/zr60226s2gq4ynyhdp9jgp1h0000gn/T/ipykernel_92779/3652164017.py:19: UserWarning: FigureCanvasAgg is non-interactive, and thus cannot be shown\n",
      "  plt.show()\n"
     ]
    }
   ],
   "source": [
    "# Funciones de visualización\n",
    "\n",
    "\n",
    "def plot_waveform(y, sr, title=\"Waveform\"):\n",
    "    plt.figure(figsize=(10, 3))\n",
    "    librosa.display.waveshow(y, sr=sr)\n",
    "    plt.title(title)\n",
    "    plt.xlabel(\"Tiempo (s)\")\n",
    "    plt.ylabel(\"Amplitud\")\n",
    "    plt.tight_layout()\n",
    "    plt.show()\n",
    "\n",
    "\n",
    "def plot_spectrogram(y, sr, title=\"Espectrograma`\"):\n",
    "    S = amplitude_to_db(np.abs(librosa.stft(y)), ref=np.max)\n",
    "    plt.figure(figsize=(10, 3))\n",
    "    specshow(S, sr=sr, x_axis=\"time\", y_axis=\"log\")\n",
    "    plt.title(title)\n",
    "    plt.colorbar(format=\"%+2.0f dB\")\n",
    "    plt.tight_layout()\n",
    "    plt.show()\n",
    "\n",
    "\n",
    "# Mostrar waveform y espectrograma\n",
    "plot_waveform(y, sr, \"Forma de onda del audio procesado\")\n",
    "plot_spectrogram(y, sr, \"Espectrograma del audio procesado\")"
   ]
  },
  {
   "cell_type": "code",
   "execution_count": null,
   "id": "60b59676",
   "metadata": {},
   "outputs": [],
   "source": []
  }
 ],
 "metadata": {
  "kernelspec": {
   "display_name": "pharmai",
   "language": "python",
   "name": "python3"
  },
  "language_info": {
   "codemirror_mode": {
    "name": "ipython",
    "version": 3
   },
   "file_extension": ".py",
   "mimetype": "text/x-python",
   "name": "python",
   "nbconvert_exporter": "python",
   "pygments_lexer": "ipython3",
   "version": "3.11.11"
  }
 },
 "nbformat": 4,
 "nbformat_minor": 5
}
