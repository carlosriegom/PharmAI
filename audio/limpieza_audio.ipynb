{
 "cells": [
  {
   "cell_type": "markdown",
   "id": "38ad83df",
   "metadata": {},
   "source": [
    "#### **PREPROCESADO COMPLETO: Limpieza de ruido, silencio, pre-énfasis**"
   ]
  },
  {
   "cell_type": "code",
   "execution_count": 1,
   "id": "15a693dc",
   "metadata": {},
   "outputs": [],
   "source": [
    "import numpy as np\n",
    "import librosa\n",
    "import os\n",
    "import librosa.display\n",
    "from scipy.signal import butter, filtfilt\n",
    "import librosa.display\n",
    "import matplotlib.pyplot as plt\n",
    "from IPython.display import Audio, display\n",
    "\n",
    "try:\n",
    "    import noisereduce as nr\n",
    "\n",
    "    _HAS_NOISEREDUCE = True\n",
    "except ImportError:\n",
    "    _HAS_NOISEREDUCE = False\n",
    "\n",
    "from utils_audio import preprocess_audio"
   ]
  },
  {
   "cell_type": "code",
   "execution_count": 2,
   "id": "907817a7",
   "metadata": {},
   "outputs": [
    {
     "name": "stdout",
     "output_type": "stream",
     "text": [
      "Procesando archivo: data\\outputs\\6_audio\\efectos_adversos\\audio_9_angel.wav\n"
     ]
    },
    {
     "name": "stderr",
     "output_type": "stream",
     "text": [
      "c:\\Users\\pablo\\MBD_ICAI_repo\\MBD_ICAI\\Analisis_de_Datos_No_Estructurados_ADNoE\\PharmAI\\audio\\utils_audio.py:276: UserWarning: FigureCanvasAgg is non-interactive, and thus cannot be shown\n",
      "  plt.show()\n"
     ]
    },
    {
     "name": "stdout",
     "output_type": "stream",
     "text": [
      "[✔] Guardado waveform original en: ..\\images\\audio\\preprocesado\\01_original_waveform.png\n"
     ]
    },
    {
     "name": "stderr",
     "output_type": "stream",
     "text": [
      "c:\\Users\\pablo\\MBD_ICAI_repo\\MBD_ICAI\\Analisis_de_Datos_No_Estructurados_ADNoE\\PharmAI\\audio\\utils_audio.py:295: UserWarning: FigureCanvasAgg is non-interactive, and thus cannot be shown\n",
      "  plt.show()\n"
     ]
    },
    {
     "name": "stdout",
     "output_type": "stream",
     "text": [
      "[✔] Guardado spectrogram original en: ..\\images\\audio\\preprocesado\\01_original_spectrogram.png\n",
      "[✔] Guardado waveform denoised en: ..\\images\\audio\\preprocesado\\02_denoised_waveform.png\n",
      "[✔] Guardado spectrogram denoised en: ..\\images\\audio\\preprocesado\\02_denoised_spectrogram.png\n",
      "[✔] Guardado audio con reducción de ruido en: ..\\images\\audio\\preprocesado\\audio_9_angel_reduccion_ruido.wav\n"
     ]
    },
    {
     "name": "stderr",
     "output_type": "stream",
     "text": [
      "c:\\Users\\pablo\\MBD_ICAI_repo\\MBD_ICAI\\Analisis_de_Datos_No_Estructurados_ADNoE\\PharmAI\\audio\\utils_audio.py:276: UserWarning: FigureCanvasAgg is non-interactive, and thus cannot be shown\n",
      "  plt.show()\n"
     ]
    },
    {
     "name": "stdout",
     "output_type": "stream",
     "text": [
      "[✔] Guardado waveform trim en: ..\\images\\audio\\preprocesado\\03_trim_waveform.png\n"
     ]
    },
    {
     "name": "stderr",
     "output_type": "stream",
     "text": [
      "c:\\Users\\pablo\\MBD_ICAI_repo\\MBD_ICAI\\Analisis_de_Datos_No_Estructurados_ADNoE\\PharmAI\\audio\\utils_audio.py:295: UserWarning: FigureCanvasAgg is non-interactive, and thus cannot be shown\n",
      "  plt.show()\n"
     ]
    },
    {
     "name": "stdout",
     "output_type": "stream",
     "text": [
      "[✔] Guardado spectrogram trim en: ..\\images\\audio\\preprocesado\\03_trim_spectrogram.png\n",
      "[✔] Guardado audio con recorte de silencio en: ..\\images\\audio\\preprocesado\\audio_9_angel_recorte_silencio.wav\n",
      "[✔] Guardado waveform pre-énfasis en: ..\\images\\audio\\preprocesado\\04_preemphasis_waveform.png\n",
      "[✔] Guardado spectrogram pre-énfasis en: ..\\images\\audio\\preprocesado\\04_preemphasis_spectrogram.png\n",
      "[✔] Guardado audio con pre-énfasis en: ..\\images\\audio\\preprocesado\\audio_9_angel_preenfasis.wav\n",
      "[✔] Guardado waveform bandpass en: ..\\images\\audio\\preprocesado\\05_bandpass_waveform.png\n",
      "[✔] Guardado spectrogram bandpass en: ..\\images\\audio\\preprocesado\\05_bandpass_spectrogram.png\n",
      "[✔] Guardado audio con filtro pasa-banda en: ..\\images\\audio\\preprocesado\\audio_9_angel_filtro_basspand.wav\n",
      "[✔] Guardado waveform RMS en: ..\\images\\audio\\preprocesado\\06_rms_waveform.png\n",
      "[✔] Guardado spectrogram RMS en: ..\\images\\audio\\preprocesado\\06_rms_spectrogram.png\n",
      "[✔] Guardado audio con normalización RMS en: ..\\images\\audio\\preprocesado\\audio_9_angel_normalizacion.wav\n",
      "\n",
      "Todas las imágenes se han guardado en: ..\\images\\audio\\preprocesado\n",
      "\n"
     ]
    }
   ],
   "source": [
    "# Ruta al archivo de audio\n",
    "audio_path = os.path.join(\n",
    "    \"data\", \"outputs\", \"6_audio\", \"efectos_adversos\", \"audio_9_angel.wav\"\n",
    ")\n",
    "print(f\"Procesando archivo: {audio_path}\")\n",
    "\n",
    "# Ruta a guardar las imágenes\n",
    "img_path = os.path.join(\"..\", \"images\", \"audio\", \"preprocesado\")\n",
    "\n",
    "# Preprocesar el audio (solo devuelve y)\n",
    "y = preprocess_audio(\n",
    "    audio_path,\n",
    "    sr=16000,\n",
    "    trim_db=20.0,\n",
    "    lowcut=300.0,\n",
    "    highcut=3400.0,\n",
    "    pre_coef=0.97,\n",
    "    rms_target=0.1,\n",
    "    reduce_noise_flag=True,\n",
    "    plot=True,\n",
    "    show=True,\n",
    "    save_dir=img_path,\n",
    ")"
   ]
  },
  {
   "cell_type": "code",
   "execution_count": null,
   "id": "18c6f26f",
   "metadata": {},
   "outputs": [],
   "source": []
  }
 ],
 "metadata": {
  "kernelspec": {
   "display_name": "PharmAI3",
   "language": "python",
   "name": "python3"
  },
  "language_info": {
   "codemirror_mode": {
    "name": "ipython",
    "version": 3
   },
   "file_extension": ".py",
   "mimetype": "text/x-python",
   "name": "python",
   "nbconvert_exporter": "python",
   "pygments_lexer": "ipython3",
   "version": "3.11.11"
  }
 },
 "nbformat": 4,
 "nbformat_minor": 5
}
