{
 "cells": [
  {
   "cell_type": "markdown",
   "metadata": {},
   "source": [
    "## **Chatbot con `modelo`**"
   ]
  },
  {
   "cell_type": "markdown",
   "metadata": {},
   "source": [
    "---\n",
    "### **Librerías**"
   ]
  },
  {
   "cell_type": "code",
   "execution_count": 1,
   "metadata": {},
   "outputs": [
    {
     "name": "stderr",
     "output_type": "stream",
     "text": [
      "/opt/miniconda3/envs/PharmAI/lib/python3.11/site-packages/tqdm/auto.py:21: TqdmWarning: IProgress not found. Please update jupyter and ipywidgets. See https://ipywidgets.readthedocs.io/en/stable/user_install.html\n",
      "  from .autonotebook import tqdm as notebook_tqdm\n"
     ]
    }
   ],
   "source": [
    "import json\n",
    "import numpy as np\n",
    "import torch\n",
    "import sys\n",
    "import os\n",
    "from sentence_transformers import SentenceTransformer\n",
    "\n",
    "import matplotlib.pyplot as plt\n",
    "\n",
    "# utils\n",
    "# Agrega la ruta del directorio donde está el utils al path de Python\n",
    "sys.path.append(os.path.abspath(os.path.join(os.getcwd(), \"..\")))\n",
    "from utils import load_json\n",
    "\n",
    "# from sklearn.decomposition import uPCA\n",
    "import seaborn as sns\n",
    "import faiss\n",
    "\n",
    "from transformers import AutoTokenizer, AutoModelForCausalLM, BitsAndBytesConfig, GPT2Tokenizer, GPT2LMHeadModel"
   ]
  },
  {
   "cell_type": "markdown",
   "metadata": {},
   "source": [
    "---\n",
    "### **1. Cargar Modelo**"
   ]
  },
  {
   "cell_type": "code",
   "execution_count": 2,
   "metadata": {},
   "outputs": [
    {
     "name": "stdout",
     "output_type": "stream",
     "text": [
      "Usando dispositivo: mps\n"
     ]
    },
    {
     "name": "stderr",
     "output_type": "stream",
     "text": [
      "Loading checkpoint shards:   0%|          | 0/2 [00:00<?, ?it/s]"
     ]
    },
    {
     "ename": "RuntimeError",
     "evalue": "Invalid buffer size: 8.54 GB",
     "output_type": "error",
     "traceback": [
      "\u001b[31m---------------------------------------------------------------------------\u001b[39m",
      "\u001b[31mRuntimeError\u001b[39m                              Traceback (most recent call last)",
      "\u001b[36mCell\u001b[39m\u001b[36m \u001b[39m\u001b[32mIn[2]\u001b[39m\u001b[32m, line 29\u001b[39m\n\u001b[32m     26\u001b[39m     \u001b[38;5;28;01mreturn\u001b[39;00m model, tokenizer\n\u001b[32m     28\u001b[39m \u001b[38;5;66;03m# Cargar el modelo\u001b[39;00m\n\u001b[32m---> \u001b[39m\u001b[32m29\u001b[39m model, tokenizer = \u001b[43mload_llama_model\u001b[49m\u001b[43m(\u001b[49m\u001b[43m)\u001b[49m\n",
      "\u001b[36mCell\u001b[39m\u001b[36m \u001b[39m\u001b[32mIn[2]\u001b[39m\u001b[32m, line 20\u001b[39m, in \u001b[36mload_llama_model\u001b[39m\u001b[34m()\u001b[39m\n\u001b[32m     17\u001b[39m tokenizer = AutoTokenizer.from_pretrained(model_name, use_fast=\u001b[38;5;28;01mFalse\u001b[39;00m)\n\u001b[32m     19\u001b[39m \u001b[38;5;66;03m# Cargar el modelo, especificando el tipo de datos y usando device_map=\"auto\" para aprovechar la GPU\u001b[39;00m\n\u001b[32m---> \u001b[39m\u001b[32m20\u001b[39m model = \u001b[43mAutoModelForCausalLM\u001b[49m\u001b[43m.\u001b[49m\u001b[43mfrom_pretrained\u001b[49m\u001b[43m(\u001b[49m\n\u001b[32m     21\u001b[39m \u001b[43m    \u001b[49m\u001b[43mmodel_name\u001b[49m\u001b[43m,\u001b[49m\n\u001b[32m     22\u001b[39m \u001b[43m    \u001b[49m\u001b[43mtorch_dtype\u001b[49m\u001b[43m=\u001b[49m\u001b[43mtorch\u001b[49m\u001b[43m.\u001b[49m\u001b[43mfloat16\u001b[49m\u001b[43m \u001b[49m\u001b[38;5;28;43;01mif\u001b[39;49;00m\u001b[43m \u001b[49m\u001b[43mdevice\u001b[49m\u001b[43m \u001b[49m\u001b[38;5;129;43;01min\u001b[39;49;00m\u001b[43m \u001b[49m\u001b[43m[\u001b[49m\u001b[33;43m\"\u001b[39;49m\u001b[33;43mcuda\u001b[39;49m\u001b[33;43m\"\u001b[39;49m\u001b[43m,\u001b[49m\u001b[43m \u001b[49m\u001b[33;43m\"\u001b[39;49m\u001b[33;43mmps\u001b[39;49m\u001b[33;43m\"\u001b[39;49m\u001b[43m]\u001b[49m\u001b[43m \u001b[49m\u001b[38;5;28;43;01melse\u001b[39;49;00m\u001b[43m \u001b[49m\u001b[43mtorch\u001b[49m\u001b[43m.\u001b[49m\u001b[43mfloat32\u001b[49m\u001b[43m,\u001b[49m\n\u001b[32m     23\u001b[39m \u001b[43m    \u001b[49m\u001b[43mdevice_map\u001b[49m\u001b[43m=\u001b[49m\u001b[33;43m\"\u001b[39;49m\u001b[33;43mauto\u001b[39;49m\u001b[33;43m\"\u001b[39;49m\u001b[43m,\u001b[49m\n\u001b[32m     24\u001b[39m \u001b[43m\u001b[49m\u001b[43m)\u001b[49m\n\u001b[32m     26\u001b[39m \u001b[38;5;28;01mreturn\u001b[39;00m model, tokenizer\n",
      "\u001b[36mFile \u001b[39m\u001b[32m/opt/miniconda3/envs/PharmAI/lib/python3.11/site-packages/transformers/models/auto/auto_factory.py:573\u001b[39m, in \u001b[36m_BaseAutoModelClass.from_pretrained\u001b[39m\u001b[34m(cls, pretrained_model_name_or_path, *model_args, **kwargs)\u001b[39m\n\u001b[32m    571\u001b[39m \u001b[38;5;28;01melif\u001b[39;00m \u001b[38;5;28mtype\u001b[39m(config) \u001b[38;5;129;01min\u001b[39;00m \u001b[38;5;28mcls\u001b[39m._model_mapping.keys():\n\u001b[32m    572\u001b[39m     model_class = _get_model_class(config, \u001b[38;5;28mcls\u001b[39m._model_mapping)\n\u001b[32m--> \u001b[39m\u001b[32m573\u001b[39m     \u001b[38;5;28;01mreturn\u001b[39;00m \u001b[43mmodel_class\u001b[49m\u001b[43m.\u001b[49m\u001b[43mfrom_pretrained\u001b[49m\u001b[43m(\u001b[49m\n\u001b[32m    574\u001b[39m \u001b[43m        \u001b[49m\u001b[43mpretrained_model_name_or_path\u001b[49m\u001b[43m,\u001b[49m\u001b[43m \u001b[49m\u001b[43m*\u001b[49m\u001b[43mmodel_args\u001b[49m\u001b[43m,\u001b[49m\u001b[43m \u001b[49m\u001b[43mconfig\u001b[49m\u001b[43m=\u001b[49m\u001b[43mconfig\u001b[49m\u001b[43m,\u001b[49m\u001b[43m \u001b[49m\u001b[43m*\u001b[49m\u001b[43m*\u001b[49m\u001b[43mhub_kwargs\u001b[49m\u001b[43m,\u001b[49m\u001b[43m \u001b[49m\u001b[43m*\u001b[49m\u001b[43m*\u001b[49m\u001b[43mkwargs\u001b[49m\n\u001b[32m    575\u001b[39m \u001b[43m    \u001b[49m\u001b[43m)\u001b[49m\n\u001b[32m    576\u001b[39m \u001b[38;5;28;01mraise\u001b[39;00m \u001b[38;5;167;01mValueError\u001b[39;00m(\n\u001b[32m    577\u001b[39m     \u001b[33mf\u001b[39m\u001b[33m\"\u001b[39m\u001b[33mUnrecognized configuration class \u001b[39m\u001b[38;5;132;01m{\u001b[39;00mconfig.\u001b[34m__class__\u001b[39m\u001b[38;5;132;01m}\u001b[39;00m\u001b[33m for this kind of AutoModel: \u001b[39m\u001b[38;5;132;01m{\u001b[39;00m\u001b[38;5;28mcls\u001b[39m.\u001b[34m__name__\u001b[39m\u001b[38;5;132;01m}\u001b[39;00m\u001b[33m.\u001b[39m\u001b[38;5;130;01m\\n\u001b[39;00m\u001b[33m\"\u001b[39m\n\u001b[32m    578\u001b[39m     \u001b[33mf\u001b[39m\u001b[33m\"\u001b[39m\u001b[33mModel type should be one of \u001b[39m\u001b[38;5;132;01m{\u001b[39;00m\u001b[33m'\u001b[39m\u001b[33m, \u001b[39m\u001b[33m'\u001b[39m.join(c.\u001b[34m__name__\u001b[39m\u001b[38;5;250m \u001b[39m\u001b[38;5;28;01mfor\u001b[39;00m\u001b[38;5;250m \u001b[39mc\u001b[38;5;250m \u001b[39m\u001b[38;5;129;01min\u001b[39;00m\u001b[38;5;250m \u001b[39m\u001b[38;5;28mcls\u001b[39m._model_mapping.keys())\u001b[38;5;132;01m}\u001b[39;00m\u001b[33m.\u001b[39m\u001b[33m\"\u001b[39m\n\u001b[32m    579\u001b[39m )\n",
      "\u001b[36mFile \u001b[39m\u001b[32m/opt/miniconda3/envs/PharmAI/lib/python3.11/site-packages/transformers/modeling_utils.py:272\u001b[39m, in \u001b[36mrestore_default_torch_dtype.<locals>._wrapper\u001b[39m\u001b[34m(*args, **kwargs)\u001b[39m\n\u001b[32m    270\u001b[39m old_dtype = torch.get_default_dtype()\n\u001b[32m    271\u001b[39m \u001b[38;5;28;01mtry\u001b[39;00m:\n\u001b[32m--> \u001b[39m\u001b[32m272\u001b[39m     \u001b[38;5;28;01mreturn\u001b[39;00m \u001b[43mfunc\u001b[49m\u001b[43m(\u001b[49m\u001b[43m*\u001b[49m\u001b[43margs\u001b[49m\u001b[43m,\u001b[49m\u001b[43m \u001b[49m\u001b[43m*\u001b[49m\u001b[43m*\u001b[49m\u001b[43mkwargs\u001b[49m\u001b[43m)\u001b[49m\n\u001b[32m    273\u001b[39m \u001b[38;5;28;01mfinally\u001b[39;00m:\n\u001b[32m    274\u001b[39m     torch.set_default_dtype(old_dtype)\n",
      "\u001b[36mFile \u001b[39m\u001b[32m/opt/miniconda3/envs/PharmAI/lib/python3.11/site-packages/transformers/modeling_utils.py:4455\u001b[39m, in \u001b[36mPreTrainedModel.from_pretrained\u001b[39m\u001b[34m(cls, pretrained_model_name_or_path, config, cache_dir, ignore_mismatched_sizes, force_download, local_files_only, token, revision, use_safetensors, weights_only, *model_args, **kwargs)\u001b[39m\n\u001b[32m   4445\u001b[39m     \u001b[38;5;28;01mif\u001b[39;00m dtype_orig \u001b[38;5;129;01mis\u001b[39;00m \u001b[38;5;129;01mnot\u001b[39;00m \u001b[38;5;28;01mNone\u001b[39;00m:\n\u001b[32m   4446\u001b[39m         torch.set_default_dtype(dtype_orig)\n\u001b[32m   4448\u001b[39m     (\n\u001b[32m   4449\u001b[39m         model,\n\u001b[32m   4450\u001b[39m         missing_keys,\n\u001b[32m   4451\u001b[39m         unexpected_keys,\n\u001b[32m   4452\u001b[39m         mismatched_keys,\n\u001b[32m   4453\u001b[39m         offload_index,\n\u001b[32m   4454\u001b[39m         error_msgs,\n\u001b[32m-> \u001b[39m\u001b[32m4455\u001b[39m     ) = \u001b[38;5;28;43mcls\u001b[39;49m\u001b[43m.\u001b[49m\u001b[43m_load_pretrained_model\u001b[49m\u001b[43m(\u001b[49m\n\u001b[32m   4456\u001b[39m \u001b[43m        \u001b[49m\u001b[43mmodel\u001b[49m\u001b[43m,\u001b[49m\n\u001b[32m   4457\u001b[39m \u001b[43m        \u001b[49m\u001b[43mstate_dict\u001b[49m\u001b[43m,\u001b[49m\n\u001b[32m   4458\u001b[39m \u001b[43m        \u001b[49m\u001b[43mcheckpoint_files\u001b[49m\u001b[43m,\u001b[49m\n\u001b[32m   4459\u001b[39m \u001b[43m        \u001b[49m\u001b[43mpretrained_model_name_or_path\u001b[49m\u001b[43m,\u001b[49m\n\u001b[32m   4460\u001b[39m \u001b[43m        \u001b[49m\u001b[43mignore_mismatched_sizes\u001b[49m\u001b[43m=\u001b[49m\u001b[43mignore_mismatched_sizes\u001b[49m\u001b[43m,\u001b[49m\n\u001b[32m   4461\u001b[39m \u001b[43m        \u001b[49m\u001b[43msharded_metadata\u001b[49m\u001b[43m=\u001b[49m\u001b[43msharded_metadata\u001b[49m\u001b[43m,\u001b[49m\n\u001b[32m   4462\u001b[39m \u001b[43m        \u001b[49m\u001b[43mlow_cpu_mem_usage\u001b[49m\u001b[43m=\u001b[49m\u001b[43mlow_cpu_mem_usage\u001b[49m\u001b[43m,\u001b[49m\n\u001b[32m   4463\u001b[39m \u001b[43m        \u001b[49m\u001b[43mdevice_map\u001b[49m\u001b[43m=\u001b[49m\u001b[43mdevice_map\u001b[49m\u001b[43m,\u001b[49m\n\u001b[32m   4464\u001b[39m \u001b[43m        \u001b[49m\u001b[43mdisk_offload_folder\u001b[49m\u001b[43m=\u001b[49m\u001b[43moffload_folder\u001b[49m\u001b[43m,\u001b[49m\n\u001b[32m   4465\u001b[39m \u001b[43m        \u001b[49m\u001b[43moffload_state_dict\u001b[49m\u001b[43m=\u001b[49m\u001b[43moffload_state_dict\u001b[49m\u001b[43m,\u001b[49m\n\u001b[32m   4466\u001b[39m \u001b[43m        \u001b[49m\u001b[43mdtype\u001b[49m\u001b[43m=\u001b[49m\u001b[43mtorch_dtype\u001b[49m\u001b[43m,\u001b[49m\n\u001b[32m   4467\u001b[39m \u001b[43m        \u001b[49m\u001b[43mhf_quantizer\u001b[49m\u001b[43m=\u001b[49m\u001b[43mhf_quantizer\u001b[49m\u001b[43m,\u001b[49m\n\u001b[32m   4468\u001b[39m \u001b[43m        \u001b[49m\u001b[43mkeep_in_fp32_modules\u001b[49m\u001b[43m=\u001b[49m\u001b[43mkeep_in_fp32_modules\u001b[49m\u001b[43m,\u001b[49m\n\u001b[32m   4469\u001b[39m \u001b[43m        \u001b[49m\u001b[43mdevice_mesh\u001b[49m\u001b[43m=\u001b[49m\u001b[43mdevice_mesh\u001b[49m\u001b[43m,\u001b[49m\n\u001b[32m   4470\u001b[39m \u001b[43m        \u001b[49m\u001b[43mkey_mapping\u001b[49m\u001b[43m=\u001b[49m\u001b[43mkey_mapping\u001b[49m\u001b[43m,\u001b[49m\n\u001b[32m   4471\u001b[39m \u001b[43m        \u001b[49m\u001b[43mweights_only\u001b[49m\u001b[43m=\u001b[49m\u001b[43mweights_only\u001b[49m\u001b[43m,\u001b[49m\n\u001b[32m   4472\u001b[39m \u001b[43m        \u001b[49m\u001b[43m_fast_init\u001b[49m\u001b[43m=\u001b[49m\u001b[43m_fast_init\u001b[49m\u001b[43m,\u001b[49m\n\u001b[32m   4473\u001b[39m \u001b[43m    \u001b[49m\u001b[43m)\u001b[49m\n\u001b[32m   4475\u001b[39m \u001b[38;5;66;03m# make sure token embedding weights are still tied if needed\u001b[39;00m\n\u001b[32m   4476\u001b[39m model.tie_weights()\n",
      "\u001b[36mFile \u001b[39m\u001b[32m/opt/miniconda3/envs/PharmAI/lib/python3.11/site-packages/transformers/modeling_utils.py:4841\u001b[39m, in \u001b[36mPreTrainedModel._load_pretrained_model\u001b[39m\u001b[34m(cls, model, state_dict, checkpoint_files, pretrained_model_name_or_path, ignore_mismatched_sizes, sharded_metadata, low_cpu_mem_usage, device_map, disk_offload_folder, offload_state_dict, dtype, hf_quantizer, keep_in_fp32_modules, device_mesh, key_mapping, weights_only, _fast_init)\u001b[39m\n\u001b[32m   4839\u001b[39m \u001b[38;5;28;01mif\u001b[39;00m device_map \u001b[38;5;129;01mis\u001b[39;00m \u001b[38;5;129;01mnot\u001b[39;00m \u001b[38;5;28;01mNone\u001b[39;00m \u001b[38;5;129;01mand\u001b[39;00m hf_quantizer \u001b[38;5;129;01mis\u001b[39;00m \u001b[38;5;28;01mNone\u001b[39;00m:\n\u001b[32m   4840\u001b[39m     expanded_device_map = expand_device_map(device_map, expected_keys)\n\u001b[32m-> \u001b[39m\u001b[32m4841\u001b[39m     \u001b[43mcaching_allocator_warmup\u001b[49m\u001b[43m(\u001b[49m\u001b[43mmodel_to_load\u001b[49m\u001b[43m,\u001b[49m\u001b[43m \u001b[49m\u001b[43mexpanded_device_map\u001b[49m\u001b[43m)\u001b[49m\n\u001b[32m   4843\u001b[39m error_msgs = []\n\u001b[32m   4844\u001b[39m mismatched_keys = []\n",
      "\u001b[36mFile \u001b[39m\u001b[32m/opt/miniconda3/envs/PharmAI/lib/python3.11/site-packages/transformers/modeling_utils.py:5853\u001b[39m, in \u001b[36mcaching_allocator_warmup\u001b[39m\u001b[34m(model, expanded_device_map)\u001b[39m\n\u001b[32m   5851\u001b[39m     byte_count = \u001b[38;5;28mmin\u001b[39m(byte_count, \u001b[38;5;28mint\u001b[39m(\u001b[32m0.95\u001b[39m * device_memory))\n\u001b[32m   5852\u001b[39m \u001b[38;5;66;03m# Allocate memory\u001b[39;00m\n\u001b[32m-> \u001b[39m\u001b[32m5853\u001b[39m _ = \u001b[43mtorch\u001b[49m\u001b[43m.\u001b[49m\u001b[43mempty\u001b[49m\u001b[43m(\u001b[49m\u001b[43mbyte_count\u001b[49m\u001b[43m \u001b[49m\u001b[43m/\u001b[49m\u001b[43m/\u001b[49m\u001b[43m \u001b[49m\u001b[32;43m2\u001b[39;49m\u001b[43m,\u001b[49m\u001b[43m \u001b[49m\u001b[43mdtype\u001b[49m\u001b[43m=\u001b[49m\u001b[43mtorch\u001b[49m\u001b[43m.\u001b[49m\u001b[43mfloat16\u001b[49m\u001b[43m,\u001b[49m\u001b[43m \u001b[49m\u001b[43mdevice\u001b[49m\u001b[43m=\u001b[49m\u001b[43mdevice\u001b[49m\u001b[43m,\u001b[49m\u001b[43m \u001b[49m\u001b[43mrequires_grad\u001b[49m\u001b[43m=\u001b[49m\u001b[38;5;28;43;01mFalse\u001b[39;49;00m\u001b[43m)\u001b[49m\n",
      "\u001b[31mRuntimeError\u001b[39m: Invalid buffer size: 8.54 GB"
     ]
    }
   ],
   "source": [
    "def load_llama_model():\n",
    "\n",
    "    # Detectar el dispositivo disponible: CUDA, MPS (para Mac con Apple Silicon) o CPU\n",
    "    if torch.cuda.is_available():\n",
    "        device = \"cuda\"\n",
    "    elif torch.backends.mps.is_available():\n",
    "        device = \"mps\"\n",
    "    else:\n",
    "        device = \"cpu\"\n",
    "\n",
    "    print(\"Usando dispositivo:\", device)\n",
    "\n",
    "    # Nombre del modelo a cargar (Llama-2-7b)\n",
    "    model_name = \"meta-llama/Llama-2-7b-hf\"\n",
    "\n",
    "    # Cargar el tokenizador\n",
    "    tokenizer = AutoTokenizer.from_pretrained(model_name, use_fast=False)\n",
    "\n",
    "    # Cargar el modelo, especificando el tipo de datos y usando device_map=\"auto\" para aprovechar la GPU\n",
    "    model = AutoModelForCausalLM.from_pretrained(\n",
    "        model_name,\n",
    "        torch_dtype=torch.float16 if device in [\"cuda\", \"mps\"] else torch.float32,\n",
    "        device_map=\"auto\",\n",
    "    )\n",
    "\n",
    "    return model, tokenizer\n",
    "\n",
    "# Cargar el modelo\n",
    "model, tokenizer = load_llama_model()"
   ]
  },
  {
   "cell_type": "code",
   "execution_count": 3,
   "metadata": {},
   "outputs": [
    {
     "name": "stdout",
     "output_type": "stream",
     "text": [
      "Usando dispositivo: mps\n"
     ]
    },
    {
     "name": "stderr",
     "output_type": "stream",
     "text": [
      "Xet Storage is enabled for this repo, but the 'hf_xet' package is not installed. Falling back to regular HTTP download. For better performance, install the package with: `pip install huggingface_hub[hf_xet]` or `pip install hf_xet`\n"
     ]
    }
   ],
   "source": [
    "def load_gpt2_model():\n",
    "    # Detectar el dispositivo: MPS para Mac con Apple Silicon o CPU\n",
    "    device = \"mps\" if torch.backends.mps.is_available() else \"cpu\"\n",
    "    print(\"Usando dispositivo:\", device)\n",
    "\n",
    "    model_name = \"gpt2\"  # Puedes cambiar a \"gpt2-medium\" o \"gpt2-large\" si lo deseas\n",
    "    tokenizer = GPT2Tokenizer.from_pretrained(model_name)\n",
    "    model = GPT2LMHeadModel.from_pretrained(model_name)\n",
    "    \n",
    "    # Mover el modelo al dispositivo seleccionado\n",
    "    model.to(device)\n",
    "    return model, tokenizer\n",
    "\n",
    "# Cargar el modelo GPT-2\n",
    "model, tokenizer = load_gpt2_model()"
   ]
  },
  {
   "cell_type": "markdown",
   "metadata": {},
   "source": [
    "---\n",
    "### **2. Funciones para buscar el contexto en la BBDD vectorial**"
   ]
  },
  {
   "cell_type": "code",
   "execution_count": 4,
   "metadata": {},
   "outputs": [],
   "source": [
    "def retrieve_relevant_fragments_prueba(query, top_k=5):\n",
    "    \"\"\"\n",
    "    Recupera los fragmentos más relevantes para la consulta utilizando un modelo de similitud (ej. FAISS).\n",
    "\n",
    "    Parámetros:\n",
    "    - query (str): Consulta del usuario.\n",
    "    - top_k (int): Número de fragmentos a recuperar.\n",
    "\n",
    "    Retorna:\n",
    "    - list: Lista de fragmentos relevantes.\n",
    "    \"\"\"\n",
    "    # Simulación de la búsqueda, usando FAISS o similar.\n",
    "    # Esto debería ser reemplazado por la implementación real que recupera los fragmentos relevantes.\n",
    "    # Suponemos que \"retrieved_fragments\" es el resultado de una búsqueda en base de datos vectorial.\n",
    "\n",
    "    retrieved_fragments = [\n",
    "        {\n",
    "            \"medicamento\": \"Aspirina\",\n",
    "            \"categoria\": \"efectos_secundarios\",\n",
    "            \"texto\": \"Puede causar náuseas y dolor de estómago.\",\n",
    "        },\n",
    "        {\n",
    "            \"medicamento\": \"Paracetamol\",\n",
    "            \"categoria\": \"efectos_secundarios\",\n",
    "            \"texto\": \"Puede causar problemas hepáticos en dosis altas.\",\n",
    "        },\n",
    "    ]\n",
    "    return retrieved_fragments"
   ]
  },
  {
   "cell_type": "code",
   "execution_count": 5,
   "metadata": {},
   "outputs": [],
   "source": [
    "def retrieve_relevant_fragments(query, model, fragments, index, k=5):\n",
    "    \"\"\"\n",
    "    Realiza una búsqueda en FAISS para encontrar los fragmentos más similares a la consulta.\n",
    "\n",
    "    Parámetros:\n",
    "    - query (str): La consulta en lenguaje natural.\n",
    "    - k (int): Número de resultados a recuperar.\n",
    "\n",
    "    Retorna:\n",
    "    - Lista de fragmentos de texto relevantes.\n",
    "    \"\"\"\n",
    "    # Convertir la consulta en embedding\n",
    "    query_embedding = model.encode(query, convert_to_numpy=True).reshape(1, -1)\n",
    "\n",
    "    # Buscar los k embeddings más cercanos\n",
    "    distances, indices = index.search(query_embedding, k)\n",
    "\n",
    "    # Recuperar los fragmentos correspondientes, incluyendo las distancias\n",
    "    results = []\n",
    "    for i, idx in enumerate(indices[0]):\n",
    "        if idx < len(fragments):  # Asegurar que el índice es válido\n",
    "            results.append(\n",
    "                {\n",
    "                    **fragments[idx],  # Añadir los datos del fragmento\n",
    "                    \"distance\": distances[0][i],  # Añadir la distancia de similitud\n",
    "                }\n",
    "            )\n",
    "\n",
    "    return results"
   ]
  },
  {
   "cell_type": "code",
   "execution_count": 24,
   "metadata": {},
   "outputs": [],
   "source": [
    "def format_context(retrieved_fragments, max_fragments=5, max_text_length=2000):\n",
    "    \"\"\"\n",
    "    Formatea los fragmentos recuperados en un contexto para el modelo.\n",
    "\n",
    "    Parámetros:\n",
    "    - retrieved_fragments (list): Lista de fragmentos recuperados (diccionarios)\n",
    "    - max_fragments (int): Número máximo de fragmentos a utilizar\n",
    "    - max_text_length (int): Longitud máxima del texto a mostrar por fragmento\n",
    "\n",
    "    Retorna:\n",
    "    - str: Contexto formateado para el modelo\n",
    "    \"\"\"\n",
    "    context = \"\"\n",
    "    \n",
    "    # Asegurar que no se intenten tomar más fragmentos de los que existen\n",
    "    num_fragments = min(len(retrieved_fragments), max_fragments)\n",
    "\n",
    "    for i, frag in enumerate(retrieved_fragments[:num_fragments]):\n",
    "        # Verificar que cada fragmento tenga las claves necesarias\n",
    "        if not all(key in frag for key in [\"medicamento\", \"categoria\", \"texto\"]):\n",
    "            print(f\"Advertencia: Fragmento {i+1} no tiene la estructura esperada.\")\n",
    "            continue  # Saltar fragmentos mal formateados\n",
    "\n",
    "        medicamento = frag[\"medicamento\"]\n",
    "        categoria = frag[\"categoria\"]\n",
    "        texto = frag[\"texto\"]\n",
    "\n",
    "        # Limitar la longitud del texto\n",
    "        truncated_text = (\n",
    "            texto[:max_text_length] + \"...\" if len(texto) > max_text_length else texto\n",
    "        )\n",
    "\n",
    "        # Construcción del contexto\n",
    "        context += f\"\\nFragmento {i+1}:\\n\"\n",
    "        context += f\"Medicamento: {medicamento}\\n\"\n",
    "        context += f\"Categoría: {categoria}\\n\"\n",
    "        context += f\"Información: {truncated_text}\\n\"\n",
    "\n",
    "    return context"
   ]
  },
  {
   "cell_type": "markdown",
   "metadata": {},
   "source": [
    "---\n",
    "### **3. Construir Prompt**"
   ]
  },
  {
   "cell_type": "code",
   "execution_count": 7,
   "metadata": {},
   "outputs": [],
   "source": [
    "def build_prompt(context, query):\n",
    "    \"\"\"\n",
    "    Construye el prompt para el modelo con base en el contexto y la consulta,\n",
    "    incluyendo un ejemplo de cómo debe formatear la respuesta.\n",
    "\n",
    "    Parámetros:\n",
    "    - context (str): Contexto a proporcionar al modelo\n",
    "    - query (str): Consulta del usuario\n",
    "\n",
    "    Retorna:\n",
    "    - str: Prompt completo para el modelo\n",
    "    \"\"\"\n",
    "    prompt = f\"\"\"Eres un asistente médico especializado en información sobre medicamentos.\n",
    "    Basándote únicamente en la siguiente información sobre medicamentos:\n",
    "\n",
    "    {context}\n",
    "\n",
    "    Responde de manera clara y precisa a esta pregunta: {query}\n",
    "\n",
    "    Ejemplo de consulta:\n",
    "    Pregunta: ¿Cuáles son los efectos secundarios de la aspirina?\n",
    "    Contexto: \n",
    "    Fragmento 1:\n",
    "    Medicamento: Aspirina\n",
    "    Categoría: reacciones_adversas\n",
    "    Información: Los efectos secundarios comunes incluyen náuseas, dolor de estómago y sangrados.\n",
    "\n",
    "    Respuesta:\n",
    "    La aspirina puede causar efectos secundarios como náuseas, dolor de estómago y sangrados, según la información proporcionada en el fragmento. Si necesitas más detalles, por favor consulta la ficha técnica completa.\n",
    "\n",
    "    Si la información proporcionada no es suficiente para responder completamente, indica qué datos faltan.\n",
    "\n",
    "    Tu respuesta debe ser:\n",
    "    1. Precisa y basada solo en el contexto proporcionado.\n",
    "    2. Estructurada y fácil de entender.\n",
    "    3. Sin añadir información que no esté en los fragmentos.\n",
    "    4. Con referencias claras al medicamento mencionado.\n",
    "\n",
    "    Respuesta:\"\"\"\n",
    "    return prompt"
   ]
  },
  {
   "cell_type": "markdown",
   "metadata": {},
   "source": [
    "---\n",
    "### **4. Generar respuestas basadas en el contexto y el prompt**"
   ]
  },
  {
   "cell_type": "code",
   "execution_count": 8,
   "metadata": {},
   "outputs": [],
   "source": [
    "def generate_answer(query, retrieved_fragments, tokenizer, model, max_fragments=5):\n",
    "    \"\"\"\n",
    "    Genera una respuesta basada en los fragmentos recuperados usando LLaMA.\n",
    "\n",
    "    Parámetros:\n",
    "    - query (str): La consulta del usuario\n",
    "    - retrieved_fragments (list): Lista de fragmentos recuperados\n",
    "    - tokenizer: Tokenizador del modelo\n",
    "    - model: Modelo generativo\n",
    "    - max_fragments (int): Número máximo de fragmentos a utilizar\n",
    "\n",
    "    Retorna:\n",
    "    - str: Respuesta generada\n",
    "    \"\"\"\n",
    "    # Formateamos el contexto usando los fragmentos recuperados\n",
    "    context = format_context(retrieved_fragments, max_fragments)\n",
    "\n",
    "    # Construimos el prompt para el modelo\n",
    "    prompt = build_prompt(context, query)\n",
    "\n",
    "    # Tokenizamos el prompt\n",
    "    input_ids = tokenizer.encode(prompt, return_tensors=\"pt\")\n",
    "\n",
    "    # Detectar el dispositivo disponible: CUDA, MPS (para Mac con Apple Silicon) o CPU\n",
    "    if torch.cuda.is_available():\n",
    "        device = \"cuda\"\n",
    "    elif torch.backends.mps.is_available():\n",
    "        device = \"mps\"\n",
    "    else:\n",
    "        device = \"cpu\"\n",
    "\n",
    "    print(\"Usando dispositivo:\", device)\n",
    "\n",
    "    input_ids = input_ids.to(device)\n",
    "\n",
    "    # Generamos la respuesta usando el modelo\n",
    "    with torch.no_grad():\n",
    "        output_ids = model.generate(\n",
    "            input_ids,\n",
    "            max_length=len(input_ids[0]) + 500,  # Limita la longitud de salida\n",
    "            do_sample=True,\n",
    "            temperature=0.7,\n",
    "            top_p=0.9,\n",
    "            repetition_penalty=1.2,\n",
    "        )\n",
    "\n",
    "    # Decodificamos la respuesta generada\n",
    "    response = tokenizer.decode(output_ids[0], skip_special_tokens=True)\n",
    "\n",
    "    # Extraemos solo la parte de la respuesta después del prompt\n",
    "    response = response[\n",
    "        len(prompt) :\n",
    "    ].strip()  # Ajuste para capturar la respuesta correctamente\n",
    "\n",
    "    return response"
   ]
  },
  {
   "cell_type": "markdown",
   "metadata": {},
   "source": [
    "---\n",
    "### **5. Realizar la consulta**"
   ]
  },
  {
   "cell_type": "code",
   "execution_count": 9,
   "metadata": {},
   "outputs": [],
   "source": [
    "def answer_query(query):\n",
    "    \"\"\"\n",
    "    Realiza una consulta y genera una respuesta utilizando el modelo.\n",
    "\n",
    "    Parámetros:\n",
    "    - query (str): La consulta del usuario\n",
    "\n",
    "    Retorna:\n",
    "    - str: Respuesta generada\n",
    "    \"\"\"\n",
    "    # 1. Recuperamos los fragmentos relevantes para la consulta\n",
    "    embedding_model = SentenceTransformer(\"all-MiniLM-L6-v2\") # old\n",
    "    fragments = load_json(\"../../data/outputs/5_chatbot/contexto_medicamentos_chatbot.json\") # old\n",
    "    index = faiss.read_index(\"../../data/outputs/5_chatbot/faiss_index_old.bin\") # old\n",
    "\n",
    "    retrieved_fragments = retrieve_relevant_fragments(query, embedding_model, fragments, index, k=5)\n",
    "\n",
    "    # 2. Aplicamos formateo al contexto\n",
    "    context = format_context(retrieved_fragments)\n",
    "\n",
    "    # 3. Generamos la respuesta utilizando la función que ya tienes\n",
    "    response = generate_answer(query, context, tokenizer, model)\n",
    "\n",
    "    return response"
   ]
  },
  {
   "cell_type": "markdown",
   "metadata": {},
   "source": [
    "---\n",
    "### **6. Ejemplo de Consulta**"
   ]
  },
  {
   "cell_type": "code",
   "execution_count": 26,
   "metadata": {},
   "outputs": [
    {
     "name": "stderr",
     "output_type": "stream",
     "text": [
      "The attention mask and the pad token id were not set. As a consequence, you may observe unexpected behavior. Please pass your input's `attention_mask` to obtain reliable results.\n",
      "Setting `pad_token_id` to `eos_token_id`:50256 for open-end generation.\n"
     ]
    },
    {
     "name": "stdout",
     "output_type": "stream",
     "text": [
      "Advertencia: Fragmento 1 no tiene la estructura esperada.\n",
      "Advertencia: Fragmento 2 no tiene la estructura esperada.\n",
      "Advertencia: Fragmento 3 no tiene la estructura esperada.\n",
      "Advertencia: Fragmento 4 no tiene la estructura esperada.\n",
      "Advertencia: Fragmento 5 no tiene la estructura esperada.\n",
      "Usando dispositivo: mps\n",
      "Respuesta generada: otro habriquent partigadas formados llegro hacerdos électrés-propertezístiores con sinalidad empresa; anconajero bien desde nuestros pertranas invenitivas cualcos dochán todoce leche jugar (hieronimo); aguere dos gente aquedios contribuciares non vemos compagnio medias vivisectiva - ingração acuerminor etiam adelante verdad ; uma perspectivo alletura individuelle recuperare andidade mundialem forgetto!\n"
     ]
    }
   ],
   "source": [
    "query = \"¿Cuáles son los efectos secundarios del paracetamol?\"\n",
    "response = answer_query(query)\n",
    "print(\"Respuesta generada:\", response)"
   ]
  },
  {
   "cell_type": "code",
   "execution_count": null,
   "metadata": {},
   "outputs": [],
   "source": []
  }
 ],
 "metadata": {
  "kernelspec": {
   "display_name": "PharmAI",
   "language": "python",
   "name": "python3"
  },
  "language_info": {
   "codemirror_mode": {
    "name": "ipython",
    "version": 3
   },
   "file_extension": ".py",
   "mimetype": "text/x-python",
   "name": "python",
   "nbconvert_exporter": "python",
   "pygments_lexer": "ipython3",
   "version": "3.11.11"
  }
 },
 "nbformat": 4,
 "nbformat_minor": 2
}
