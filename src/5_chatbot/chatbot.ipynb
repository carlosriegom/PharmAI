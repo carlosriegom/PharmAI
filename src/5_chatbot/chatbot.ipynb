{
 "cells": [
  {
   "cell_type": "markdown",
   "metadata": {},
   "source": [
    "## **Chatbot con `Llama2`**"
   ]
  },
  {
   "cell_type": "markdown",
   "metadata": {},
   "source": [
    "---\n",
    "### **Librerías**"
   ]
  },
  {
   "cell_type": "code",
   "execution_count": 19,
   "metadata": {},
   "outputs": [],
   "source": [
    "import json\n",
    "import numpy as np\n",
    "import torch\n",
    "import sys\n",
    "import os\n",
    "from sentence_transformers import SentenceTransformer\n",
    "\n",
    "import matplotlib.pyplot as plt\n",
    "\n",
    "# utils\n",
    "# Agrega la ruta del directorio donde está el utils al path de Python\n",
    "sys.path.append(os.path.abspath(os.path.join(os.getcwd(), \"..\")))\n",
    "from utils import load_json\n",
    "\n",
    "# from sklearn.decomposition import uPCA\n",
    "import seaborn as sns\n",
    "import faiss\n",
    "\n",
    "from transformers import AutoTokenizer, AutoModelForCausalLM"
   ]
  },
  {
   "cell_type": "markdown",
   "metadata": {},
   "source": [
    "---\n",
    "### **1. Cargar Modelo**"
   ]
  },
  {
   "cell_type": "code",
   "execution_count": 20,
   "metadata": {},
   "outputs": [
    {
     "name": "stdout",
     "output_type": "stream",
     "text": [
      "Usando dispositivo: mps\n"
     ]
    },
    {
     "name": "stderr",
     "output_type": "stream",
     "text": [
      "\n",
      "\n",
      "\u001b[A\u001b[A\n",
      "\n",
      "\u001b[A\u001b[A\n",
      "\n",
      "Loading checkpoint shards: 100%|██████████| 2/2 [00:15<00:00,  7.54s/it]\n",
      "Some parameters are on the meta device because they were offloaded to the disk.\n"
     ]
    }
   ],
   "source": [
    "def load_llama_model():\n",
    "\n",
    "    # Detectar el dispositivo disponible: CUDA, MPS (para Mac con Apple Silicon) o CPU\n",
    "    if torch.cuda.is_available():\n",
    "        device = \"cuda\"\n",
    "    elif torch.backends.mps.is_available():\n",
    "        device = \"mps\"\n",
    "    else:\n",
    "        device = \"cpu\"\n",
    "\n",
    "    print(\"Usando dispositivo:\", device)\n",
    "\n",
    "    # Nombre del modelo a cargar (Llama-2-7b)\n",
    "    model_name = \"meta-llama/Llama-2-7b-hf\"\n",
    "\n",
    "    # Cargar el tokenizador\n",
    "    tokenizer = AutoTokenizer.from_pretrained(model_name, use_fast=False)\n",
    "\n",
    "    # Cargar el modelo, especificando el tipo de datos y usando device_map=\"auto\" para aprovechar la GPU\n",
    "    model = AutoModelForCausalLM.from_pretrained(\n",
    "        model_name,\n",
    "        torch_dtype=torch.float16 if device in [\"cuda\", \"mps\"] else torch.float32,\n",
    "        device_map=\"auto\",\n",
    "    )\n",
    "\n",
    "    return model, tokenizer\n",
    "\n",
    "\n",
    "# Cargar el modelo\n",
    "model, tokenizer = load_llama_model()"
   ]
  },
  {
   "cell_type": "markdown",
   "metadata": {},
   "source": [
    "---\n",
    "### **2. Funciones para buscar el contexto en la BBDD vectorial**"
   ]
  },
  {
   "cell_type": "code",
   "execution_count": 21,
   "metadata": {},
   "outputs": [],
   "source": [
    "def retrieve_relevant_fragments_prueba(query, top_k=5):\n",
    "    \"\"\"\n",
    "    Recupera los fragmentos más relevantes para la consulta utilizando un modelo de similitud (ej. FAISS).\n",
    "\n",
    "    Parámetros:\n",
    "    - query (str): Consulta del usuario.\n",
    "    - top_k (int): Número de fragmentos a recuperar.\n",
    "\n",
    "    Retorna:\n",
    "    - list: Lista de fragmentos relevantes.\n",
    "    \"\"\"\n",
    "    # Simulación de la búsqueda, usando FAISS o similar.\n",
    "    # Esto debería ser reemplazado por la implementación real que recupera los fragmentos relevantes.\n",
    "    # Suponemos que \"retrieved_fragments\" es el resultado de una búsqueda en base de datos vectorial.\n",
    "\n",
    "    retrieved_fragments = [\n",
    "        {\n",
    "            \"medicamento\": \"Aspirina\",\n",
    "            \"categoria\": \"efectos_secundarios\",\n",
    "            \"texto\": \"Puede causar náuseas y dolor de estómago.\",\n",
    "        },\n",
    "        {\n",
    "            \"medicamento\": \"Paracetamol\",\n",
    "            \"categoria\": \"efectos_secundarios\",\n",
    "            \"texto\": \"Puede causar problemas hepáticos en dosis altas.\",\n",
    "        },\n",
    "    ]\n",
    "    return retrieved_fragments"
   ]
  },
  {
   "cell_type": "code",
   "execution_count": 22,
   "metadata": {},
   "outputs": [],
   "source": [
    "def retrieve_relevant_fragments(query, model, fragments, index, k=5):\n",
    "    \"\"\"\n",
    "    Realiza una búsqueda en FAISS para encontrar los fragmentos más similares a la consulta.\n",
    "\n",
    "    Parámetros:\n",
    "    - query (str): La consulta en lenguaje natural.\n",
    "    - k (int): Número de resultados a recuperar.\n",
    "\n",
    "    Retorna:\n",
    "    - Lista de fragmentos de texto relevantes.\n",
    "    \"\"\"\n",
    "    # Convertir la consulta en embedding\n",
    "    query_embedding = model.encode(query, convert_to_numpy=True).reshape(1, -1)\n",
    "\n",
    "    # Buscar los k embeddings más cercanos\n",
    "    distances, indices = index.search(query_embedding, k)\n",
    "\n",
    "    # Recuperar los fragmentos correspondientes, incluyendo las distancias\n",
    "    results = []\n",
    "    for i, idx in enumerate(indices[0]):\n",
    "        if idx < len(fragments):  # Asegurar que el índice es válido\n",
    "            results.append(\n",
    "                {\n",
    "                    **fragments[idx],  # Añadir los datos del fragmento\n",
    "                    \"distance\": distances[0][i],  # Añadir la distancia de similitud\n",
    "                }\n",
    "            )\n",
    "\n",
    "    return results"
   ]
  },
  {
   "cell_type": "code",
   "execution_count": 23,
   "metadata": {},
   "outputs": [],
   "source": [
    "def format_context(retrieved_fragments, max_fragments=5, max_text_length=2000):\n",
    "    \"\"\"\n",
    "    Formatea los fragmentos recuperados en un contexto para el modelo.\n",
    "\n",
    "    Parámetros:\n",
    "    - retrieved_fragments (list): Lista de fragmentos recuperados\n",
    "    - max_fragments (int): Número máximo de fragmentos a utilizar\n",
    "    - max_text_length (int): Longitud máxima del texto a mostrar por fragmento\n",
    "\n",
    "    Retorna:\n",
    "    - str: Contexto formateado para el modelo\n",
    "    \"\"\"\n",
    "    context = \"\"\n",
    "    for i, frag in enumerate(retrieved_fragments[:max_fragments]):\n",
    "        medicamento = frag[\"medicamento\"]\n",
    "        categoria = frag[\"categoria\"]\n",
    "        texto = frag[\"texto\"]\n",
    "\n",
    "        # Limitamos la longitud del texto para evitar sobrecargar el modelo\n",
    "        truncated_text = (\n",
    "            texto[:max_text_length] + \"...\" if len(texto) > max_text_length else texto\n",
    "        )\n",
    "\n",
    "        context += f\"\\nFragmento {i+1}:\\n\"\n",
    "        context += f\"Medicamento: {medicamento}\\n\"\n",
    "        context += f\"Categoría: {categoria}\\n\"\n",
    "        context += f\"Información: {truncated_text}\\n\"\n",
    "\n",
    "    return context"
   ]
  },
  {
   "cell_type": "markdown",
   "metadata": {},
   "source": [
    "---\n",
    "### **3. Construir Prompt**"
   ]
  },
  {
   "cell_type": "code",
   "execution_count": 24,
   "metadata": {},
   "outputs": [],
   "source": [
    "def build_prompt(context, query):\n",
    "    \"\"\"\n",
    "    Construye el prompt para el modelo con base en el contexto y la consulta,\n",
    "    incluyendo un ejemplo de cómo debe formatear la respuesta.\n",
    "\n",
    "    Parámetros:\n",
    "    - context (str): Contexto a proporcionar al modelo\n",
    "    - query (str): Consulta del usuario\n",
    "\n",
    "    Retorna:\n",
    "    - str: Prompt completo para el modelo\n",
    "    \"\"\"\n",
    "    prompt = f\"\"\"Eres un asistente médico especializado en información sobre medicamentos.\n",
    "    Basándote únicamente en la siguiente información sobre medicamentos:\n",
    "\n",
    "    {context}\n",
    "\n",
    "    Responde de manera clara y precisa a esta pregunta: {query}\n",
    "\n",
    "    Ejemplo de consulta:\n",
    "    Pregunta: ¿Cuáles son los efectos secundarios de la aspirina?\n",
    "    Contexto: \n",
    "    Fragmento 1:\n",
    "    Medicamento: Aspirina\n",
    "    Categoría: reacciones_adversas\n",
    "    Información: Los efectos secundarios comunes incluyen náuseas, dolor de estómago y sangrados.\n",
    "\n",
    "    Respuesta:\n",
    "    La aspirina puede causar efectos secundarios como náuseas, dolor de estómago y sangrados, según la información proporcionada en el fragmento. Si necesitas más detalles, por favor consulta la ficha técnica completa.\n",
    "\n",
    "    Si la información proporcionada no es suficiente para responder completamente, indica qué datos faltan.\n",
    "\n",
    "    Tu respuesta debe ser:\n",
    "    1. Precisa y basada solo en el contexto proporcionado.\n",
    "    2. Estructurada y fácil de entender.\n",
    "    3. Sin añadir información que no esté en los fragmentos.\n",
    "    4. Con referencias claras al medicamento mencionado.\n",
    "\n",
    "    Respuesta:\"\"\"\n",
    "    return prompt"
   ]
  },
  {
   "cell_type": "markdown",
   "metadata": {},
   "source": [
    "---\n",
    "### **4. Generar respuestas basadas en el contexto y el prompt**"
   ]
  },
  {
   "cell_type": "code",
   "execution_count": 26,
   "metadata": {},
   "outputs": [],
   "source": [
    "def generate_answer(query, retrieved_fragments, tokenizer, model, max_fragments=5):\n",
    "    \"\"\"\n",
    "    Genera una respuesta basada en los fragmentos recuperados usando LLaMA.\n",
    "\n",
    "    Parámetros:\n",
    "    - query (str): La consulta del usuario\n",
    "    - retrieved_fragments (list): Lista de fragmentos recuperados\n",
    "    - tokenizer: Tokenizador del modelo\n",
    "    - model: Modelo generativo\n",
    "    - max_fragments (int): Número máximo de fragmentos a utilizar\n",
    "\n",
    "    Retorna:\n",
    "    - str: Respuesta generada\n",
    "    \"\"\"\n",
    "    # Formateamos el contexto usando los fragmentos recuperados\n",
    "    context = format_context(retrieved_fragments, max_fragments)\n",
    "\n",
    "    # Construimos el prompt para el modelo\n",
    "    prompt = build_prompt(context, query)\n",
    "\n",
    "    # Tokenizamos el prompt\n",
    "    input_ids = tokenizer.encode(prompt, return_tensors=\"pt\")\n",
    "\n",
    "    # Detectar el dispositivo disponible: CUDA, MPS (para Mac con Apple Silicon) o CPU\n",
    "    if torch.cuda.is_available():\n",
    "        device = \"cuda\"\n",
    "    elif torch.backends.mps.is_available():\n",
    "        device = \"mps\"\n",
    "    else:\n",
    "        device = \"cpu\"\n",
    "\n",
    "    print(\"Usando dispositivo:\", device)\n",
    "\n",
    "    input_ids = input_ids.to(device)\n",
    "\n",
    "    # Generamos la respuesta usando el modelo\n",
    "    with torch.no_grad():\n",
    "        output_ids = model.generate(\n",
    "            input_ids,\n",
    "            max_length=len(input_ids[0]) + 500,  # Limita la longitud de salida\n",
    "            do_sample=True,\n",
    "            temperature=0.7,\n",
    "            top_p=0.9,\n",
    "            repetition_penalty=1.2,\n",
    "        )\n",
    "\n",
    "    # Decodificamos la respuesta generada\n",
    "    response = tokenizer.decode(output_ids[0], skip_special_tokens=True)\n",
    "\n",
    "    # Extraemos solo la parte de la respuesta después del prompt\n",
    "    response = response[\n",
    "        len(prompt) :\n",
    "    ].strip()  # Ajuste para capturar la respuesta correctamente\n",
    "\n",
    "    return response"
   ]
  },
  {
   "cell_type": "markdown",
   "metadata": {},
   "source": [
    "---\n",
    "### **5. Realizar la consulta**"
   ]
  },
  {
   "cell_type": "code",
   "execution_count": 28,
   "metadata": {},
   "outputs": [],
   "source": [
    "def answer_query(query):\n",
    "    \"\"\"\n",
    "    Realiza una consulta y genera una respuesta utilizando el modelo.\n",
    "\n",
    "    Parámetros:\n",
    "    - query (str): La consulta del usuario\n",
    "\n",
    "    Retorna:\n",
    "    - str: Respuesta generada\n",
    "    \"\"\"\n",
    "    # 1. Recuperamos los fragmentos relevantes para la consulta\n",
    "    embedding_model = SentenceTransformer(\"all-MiniLM-L6-v2\") # old\n",
    "    fragments = load_json(\"../../data/outputs/5_chatbot/contexto_medicamentos_chatbot.json\") # old\n",
    "    index = faiss.read_index(\"../../data/outputs/5_chatbot/faiss_index_old.bin\") # old\n",
    "\n",
    "    retrieved_fragments = retrieve_relevant_fragments(query, embedding_model, fragments, index, k=5)\n",
    "\n",
    "    # 2. Aplicamos formateo al contexto\n",
    "    context = format_context(retrieved_fragments)\n",
    "\n",
    "    # 3. Generamos la respuesta utilizando la función que ya tienes\n",
    "    response = generate_answer(query, context, tokenizer, model)\n",
    "\n",
    "    return response"
   ]
  },
  {
   "cell_type": "markdown",
   "metadata": {},
   "source": [
    "---\n",
    "### **6. Ejemplo de Consulta**"
   ]
  },
  {
   "cell_type": "code",
   "execution_count": 29,
   "metadata": {},
   "outputs": [
    {
     "ename": "TypeError",
     "evalue": "string indices must be integers, not 'str'",
     "output_type": "error",
     "traceback": [
      "\u001b[31m---------------------------------------------------------------------------\u001b[39m",
      "\u001b[31mTypeError\u001b[39m                                 Traceback (most recent call last)",
      "\u001b[36mCell\u001b[39m\u001b[36m \u001b[39m\u001b[32mIn[29]\u001b[39m\u001b[32m, line 2\u001b[39m\n\u001b[32m      1\u001b[39m query = \u001b[33m\"\u001b[39m\u001b[33m¿Cuáles son los efectos secundarios del paracetamol?\u001b[39m\u001b[33m\"\u001b[39m\n\u001b[32m----> \u001b[39m\u001b[32m2\u001b[39m response = \u001b[43manswer_query\u001b[49m\u001b[43m(\u001b[49m\u001b[43mquery\u001b[49m\u001b[43m)\u001b[49m\n\u001b[32m      3\u001b[39m \u001b[38;5;28mprint\u001b[39m(\u001b[33m\"\u001b[39m\u001b[33mRespuesta generada:\u001b[39m\u001b[33m\"\u001b[39m, response)\n",
      "\u001b[36mCell\u001b[39m\u001b[36m \u001b[39m\u001b[32mIn[28]\u001b[39m\u001b[32m, line 22\u001b[39m, in \u001b[36manswer_query\u001b[39m\u001b[34m(query)\u001b[39m\n\u001b[32m     19\u001b[39m context = format_context(retrieved_fragments)\n\u001b[32m     21\u001b[39m \u001b[38;5;66;03m# 3. Generamos la respuesta utilizando la función que ya tienes\u001b[39;00m\n\u001b[32m---> \u001b[39m\u001b[32m22\u001b[39m response = \u001b[43mgenerate_answer\u001b[49m\u001b[43m(\u001b[49m\u001b[43mquery\u001b[49m\u001b[43m,\u001b[49m\u001b[43m \u001b[49m\u001b[43mcontext\u001b[49m\u001b[43m,\u001b[49m\u001b[43m \u001b[49m\u001b[43mtokenizer\u001b[49m\u001b[43m,\u001b[49m\u001b[43m \u001b[49m\u001b[43mmodel\u001b[49m\u001b[43m)\u001b[49m\n\u001b[32m     24\u001b[39m \u001b[38;5;28;01mreturn\u001b[39;00m response\n",
      "\u001b[36mCell\u001b[39m\u001b[36m \u001b[39m\u001b[32mIn[26]\u001b[39m\u001b[32m, line 16\u001b[39m, in \u001b[36mgenerate_answer\u001b[39m\u001b[34m(query, retrieved_fragments, tokenizer, model, max_fragments)\u001b[39m\n\u001b[32m      2\u001b[39m \u001b[38;5;250m\u001b[39m\u001b[33;03m\"\"\"\u001b[39;00m\n\u001b[32m      3\u001b[39m \u001b[33;03mGenera una respuesta basada en los fragmentos recuperados usando LLaMA.\u001b[39;00m\n\u001b[32m      4\u001b[39m \n\u001b[32m   (...)\u001b[39m\u001b[32m     13\u001b[39m \u001b[33;03m- str: Respuesta generada\u001b[39;00m\n\u001b[32m     14\u001b[39m \u001b[33;03m\"\"\"\u001b[39;00m\n\u001b[32m     15\u001b[39m \u001b[38;5;66;03m# Formateamos el contexto usando los fragmentos recuperados\u001b[39;00m\n\u001b[32m---> \u001b[39m\u001b[32m16\u001b[39m context = \u001b[43mformat_context\u001b[49m\u001b[43m(\u001b[49m\u001b[43mretrieved_fragments\u001b[49m\u001b[43m,\u001b[49m\u001b[43m \u001b[49m\u001b[43mmax_fragments\u001b[49m\u001b[43m)\u001b[49m\n\u001b[32m     18\u001b[39m \u001b[38;5;66;03m# Construimos el prompt para el modelo\u001b[39;00m\n\u001b[32m     19\u001b[39m prompt = build_prompt(context, query)\n",
      "\u001b[36mCell\u001b[39m\u001b[36m \u001b[39m\u001b[32mIn[23]\u001b[39m\u001b[32m, line 15\u001b[39m, in \u001b[36mformat_context\u001b[39m\u001b[34m(retrieved_fragments, max_fragments, max_text_length)\u001b[39m\n\u001b[32m     13\u001b[39m context = \u001b[33m\"\u001b[39m\u001b[33m\"\u001b[39m\n\u001b[32m     14\u001b[39m \u001b[38;5;28;01mfor\u001b[39;00m i, frag \u001b[38;5;129;01min\u001b[39;00m \u001b[38;5;28menumerate\u001b[39m(retrieved_fragments[:max_fragments]):\n\u001b[32m---> \u001b[39m\u001b[32m15\u001b[39m     medicamento = \u001b[43mfrag\u001b[49m\u001b[43m[\u001b[49m\u001b[33;43m\"\u001b[39;49m\u001b[33;43mmedicamento\u001b[39;49m\u001b[33;43m\"\u001b[39;49m\u001b[43m]\u001b[49m\n\u001b[32m     16\u001b[39m     categoria = frag[\u001b[33m\"\u001b[39m\u001b[33mcategoria\u001b[39m\u001b[33m\"\u001b[39m]\n\u001b[32m     17\u001b[39m     texto = frag[\u001b[33m\"\u001b[39m\u001b[33mtexto\u001b[39m\u001b[33m\"\u001b[39m]\n",
      "\u001b[31mTypeError\u001b[39m: string indices must be integers, not 'str'"
     ]
    }
   ],
   "source": [
    "query = \"¿Cuáles son los efectos secundarios del paracetamol?\"\n",
    "response = answer_query(query)\n",
    "print(\"Respuesta generada:\", response)"
   ]
  },
  {
   "cell_type": "code",
   "execution_count": null,
   "metadata": {},
   "outputs": [],
   "source": []
  }
 ],
 "metadata": {
  "kernelspec": {
   "display_name": "PharmAI",
   "language": "python",
   "name": "python3"
  },
  "language_info": {
   "codemirror_mode": {
    "name": "ipython",
    "version": 3
   },
   "file_extension": ".py",
   "mimetype": "text/x-python",
   "name": "python",
   "nbconvert_exporter": "python",
   "pygments_lexer": "ipython3",
   "version": "3.11.11"
  }
 },
 "nbformat": 4,
 "nbformat_minor": 2
}
