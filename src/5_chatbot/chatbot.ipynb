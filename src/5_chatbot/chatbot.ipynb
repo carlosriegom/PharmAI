{
 "cells": [
  {
   "cell_type": "markdown",
   "metadata": {},
   "source": [
    "## **Chatbot con `Llama2-7b-chat`**\n",
    "Construimos un assitente farmacéutico a modo de chatbot, con el modelo `Llama 2-7b`de `Meta`"
   ]
  },
  {
   "cell_type": "markdown",
   "metadata": {},
   "source": [
    "---\n",
    "### **Librerías**"
   ]
  },
  {
   "cell_type": "code",
   "execution_count": 2,
   "metadata": {},
   "outputs": [
    {
     "name": "stderr",
     "output_type": "stream",
     "text": [
      "/opt/miniconda3/envs/PharmAI/lib/python3.11/site-packages/tqdm/auto.py:21: TqdmWarning: IProgress not found. Please update jupyter and ipywidgets. See https://ipywidgets.readthedocs.io/en/stable/user_install.html\n",
      "  from .autonotebook import tqdm as notebook_tqdm\n"
     ]
    }
   ],
   "source": [
    "import json\n",
    "import numpy as np\n",
    "import torch\n",
    "import sys\n",
    "import os\n",
    "from sentence_transformers import SentenceTransformer\n",
    "\n",
    "import matplotlib.pyplot as plt\n",
    "\n",
    "# utils\n",
    "# Agrega la ruta del directorio donde está el utils al path de Python\n",
    "sys.path.append(os.path.abspath(os.path.join(os.getcwd(), \"..\")))\n",
    "from utils import load_json\n",
    "\n",
    "# from sklearn.decomposition import uPCA\n",
    "import seaborn as sns\n",
    "import faiss\n",
    "\n",
    "from transformers import AutoTokenizer, AutoModelForCausalLM, BitsAndBytesConfig, GPT2Tokenizer, GPT2LMHeadModel"
   ]
  },
  {
   "cell_type": "markdown",
   "metadata": {},
   "source": [
    "---\n",
    "### **1. Cargar el modelo**"
   ]
  },
  {
   "cell_type": "markdown",
   "metadata": {},
   "source": [
    "---\n",
    "##### **`Llama2-7b` (normal o chat)**"
   ]
  },
  {
   "cell_type": "code",
   "execution_count": 29,
   "metadata": {},
   "outputs": [
    {
     "name": "stdout",
     "output_type": "stream",
     "text": [
      "Usando dispositivo: mps\n"
     ]
    },
    {
     "name": "stderr",
     "output_type": "stream",
     "text": [
      "Loading checkpoint shards: 100%|██████████| 2/2 [00:04<00:00,  2.16s/it]\n",
      "Some parameters are on the meta device because they were offloaded to the disk.\n"
     ]
    }
   ],
   "source": [
    "def load_llama_model():\n",
    "\n",
    "    # Detectar el dispositivo disponible: CUDA, MPS (para Mac con Apple Silicon) o CPU\n",
    "    if torch.cuda.is_available():\n",
    "        device = \"cuda\"\n",
    "    elif torch.backends.mps.is_available():\n",
    "        device = \"mps\"\n",
    "    else:\n",
    "        device = \"cpu\"\n",
    "\n",
    "    print(\"Usando dispositivo:\", device)\n",
    "\n",
    "    # Nombre del modelo a cargar (Llama-2-7b)\n",
    "    #model_name = \"meta-llama/Llama-2-7b-hf\" # Llama2 normal\n",
    "    model_name = \"meta-llama/Llama-2-7b-chat-hf\" # Llama2 chat\n",
    "    \n",
    "    # Cargar el tokenizador\n",
    "    tokenizer = AutoTokenizer.from_pretrained(model_name, use_fast=False)\n",
    "\n",
    "    # Cargar el modelo, especificando el tipo de datos y usando device_map=\"auto\" para aprovechar la GPU\n",
    "    model = AutoModelForCausalLM.from_pretrained(\n",
    "        model_name,\n",
    "        torch_dtype=torch.float16 if device in [\"cuda\", \"mps\"] else torch.float32,\n",
    "        device_map=\"auto\",\n",
    "    )\n",
    "\n",
    "    return model, tokenizer\n",
    "\n",
    "# Cargar el modelo\n",
    "model, tokenizer = load_llama_model()"
   ]
  },
  {
   "cell_type": "markdown",
   "metadata": {},
   "source": [
    "---\n",
    "##### **`GPT2`**"
   ]
  },
  {
   "cell_type": "code",
   "execution_count": null,
   "metadata": {},
   "outputs": [
    {
     "name": "stdout",
     "output_type": "stream",
     "text": [
      "Usando dispositivo: mps\n"
     ]
    }
   ],
   "source": [
    "def load_gpt2_model():\n",
    "    # Detectar el dispositivo: MPS para Mac con Apple Silicon o CPU\n",
    "    device = \"mps\" if torch.backends.mps.is_available() else \"cpu\"\n",
    "    print(\"Usando dispositivo:\", device)\n",
    "\n",
    "    model_name = \"gpt2\"  # Puedes cambiar a \"gpt2-medium\" o \"gpt2-large\" si lo deseas\n",
    "    tokenizer = GPT2Tokenizer.from_pretrained(model_name)\n",
    "    model = GPT2LMHeadModel.from_pretrained(model_name)\n",
    "    \n",
    "    # Mover el modelo al dispositivo seleccionado\n",
    "    model.to(device)\n",
    "    return model, tokenizer\n",
    "\n",
    "# Cargar el modelo GPT-2\n",
    "#model, tokenizer = load_gpt2_model()"
   ]
  },
  {
   "cell_type": "markdown",
   "metadata": {},
   "source": [
    "---\n",
    "##### **`GPT-J-6b`**"
   ]
  },
  {
   "cell_type": "code",
   "execution_count": null,
   "metadata": {},
   "outputs": [
    {
     "name": "stdout",
     "output_type": "stream",
     "text": [
      "Usando dispositivo: mps\n"
     ]
    },
    {
     "ename": "ValueError",
     "evalue": "The current `device_map` had weights offloaded to the disk. Please provide an `offload_folder` for them. Alternatively, make sure you have `safetensors` installed if the model you are using offers the weights in this format.",
     "output_type": "error",
     "traceback": [
      "\u001b[31m---------------------------------------------------------------------------\u001b[39m",
      "\u001b[31mValueError\u001b[39m                                Traceback (most recent call last)",
      "\u001b[36mCell\u001b[39m\u001b[36m \u001b[39m\u001b[32mIn[28]\u001b[39m\u001b[32m, line 28\u001b[39m\n\u001b[32m     25\u001b[39m     \u001b[38;5;28;01mreturn\u001b[39;00m model, tokenizer\n\u001b[32m     27\u001b[39m \u001b[38;5;66;03m# Cargar el modelo\u001b[39;00m\n\u001b[32m---> \u001b[39m\u001b[32m28\u001b[39m model, tokenizer = \u001b[43mload_gpt_j_model\u001b[49m\u001b[43m(\u001b[49m\u001b[43m)\u001b[49m\n",
      "\u001b[36mCell\u001b[39m\u001b[36m \u001b[39m\u001b[32mIn[28]\u001b[39m\u001b[32m, line 19\u001b[39m, in \u001b[36mload_gpt_j_model\u001b[39m\u001b[34m()\u001b[39m\n\u001b[32m     16\u001b[39m tokenizer = AutoTokenizer.from_pretrained(model_name, use_fast=\u001b[38;5;28;01mFalse\u001b[39;00m)\n\u001b[32m     18\u001b[39m \u001b[38;5;66;03m# Cargar el modelo, especificando el tipo de datos y usando device_map=\"auto\" para aprovechar la GPU\u001b[39;00m\n\u001b[32m---> \u001b[39m\u001b[32m19\u001b[39m model = \u001b[43mAutoModelForCausalLM\u001b[49m\u001b[43m.\u001b[49m\u001b[43mfrom_pretrained\u001b[49m\u001b[43m(\u001b[49m\n\u001b[32m     20\u001b[39m \u001b[43m    \u001b[49m\u001b[43mmodel_name\u001b[49m\u001b[43m,\u001b[49m\n\u001b[32m     21\u001b[39m \u001b[43m    \u001b[49m\u001b[43mtorch_dtype\u001b[49m\u001b[43m=\u001b[49m\u001b[43mtorch\u001b[49m\u001b[43m.\u001b[49m\u001b[43mfloat16\u001b[49m\u001b[43m \u001b[49m\u001b[38;5;28;43;01mif\u001b[39;49;00m\u001b[43m \u001b[49m\u001b[43mdevice\u001b[49m\u001b[43m \u001b[49m\u001b[38;5;129;43;01min\u001b[39;49;00m\u001b[43m \u001b[49m\u001b[43m[\u001b[49m\u001b[33;43m\"\u001b[39;49m\u001b[33;43mcuda\u001b[39;49m\u001b[33;43m\"\u001b[39;49m\u001b[43m,\u001b[49m\u001b[43m \u001b[49m\u001b[33;43m\"\u001b[39;49m\u001b[33;43mmps\u001b[39;49m\u001b[33;43m\"\u001b[39;49m\u001b[43m]\u001b[49m\u001b[43m \u001b[49m\u001b[38;5;28;43;01melse\u001b[39;49;00m\u001b[43m \u001b[49m\u001b[43mtorch\u001b[49m\u001b[43m.\u001b[49m\u001b[43mfloat32\u001b[49m\u001b[43m,\u001b[49m\n\u001b[32m     22\u001b[39m \u001b[43m    \u001b[49m\u001b[43mdevice_map\u001b[49m\u001b[43m=\u001b[49m\u001b[33;43m\"\u001b[39;49m\u001b[33;43mauto\u001b[39;49m\u001b[33;43m\"\u001b[39;49m\u001b[43m,\u001b[49m\n\u001b[32m     23\u001b[39m \u001b[43m\u001b[49m\u001b[43m)\u001b[49m\n\u001b[32m     25\u001b[39m \u001b[38;5;28;01mreturn\u001b[39;00m model, tokenizer\n",
      "\u001b[36mFile \u001b[39m\u001b[32m/opt/miniconda3/envs/PharmAI/lib/python3.11/site-packages/transformers/models/auto/auto_factory.py:573\u001b[39m, in \u001b[36m_BaseAutoModelClass.from_pretrained\u001b[39m\u001b[34m(cls, pretrained_model_name_or_path, *model_args, **kwargs)\u001b[39m\n\u001b[32m    571\u001b[39m \u001b[38;5;28;01melif\u001b[39;00m \u001b[38;5;28mtype\u001b[39m(config) \u001b[38;5;129;01min\u001b[39;00m \u001b[38;5;28mcls\u001b[39m._model_mapping.keys():\n\u001b[32m    572\u001b[39m     model_class = _get_model_class(config, \u001b[38;5;28mcls\u001b[39m._model_mapping)\n\u001b[32m--> \u001b[39m\u001b[32m573\u001b[39m     \u001b[38;5;28;01mreturn\u001b[39;00m \u001b[43mmodel_class\u001b[49m\u001b[43m.\u001b[49m\u001b[43mfrom_pretrained\u001b[49m\u001b[43m(\u001b[49m\n\u001b[32m    574\u001b[39m \u001b[43m        \u001b[49m\u001b[43mpretrained_model_name_or_path\u001b[49m\u001b[43m,\u001b[49m\u001b[43m \u001b[49m\u001b[43m*\u001b[49m\u001b[43mmodel_args\u001b[49m\u001b[43m,\u001b[49m\u001b[43m \u001b[49m\u001b[43mconfig\u001b[49m\u001b[43m=\u001b[49m\u001b[43mconfig\u001b[49m\u001b[43m,\u001b[49m\u001b[43m \u001b[49m\u001b[43m*\u001b[49m\u001b[43m*\u001b[49m\u001b[43mhub_kwargs\u001b[49m\u001b[43m,\u001b[49m\u001b[43m \u001b[49m\u001b[43m*\u001b[49m\u001b[43m*\u001b[49m\u001b[43mkwargs\u001b[49m\n\u001b[32m    575\u001b[39m \u001b[43m    \u001b[49m\u001b[43m)\u001b[49m\n\u001b[32m    576\u001b[39m \u001b[38;5;28;01mraise\u001b[39;00m \u001b[38;5;167;01mValueError\u001b[39;00m(\n\u001b[32m    577\u001b[39m     \u001b[33mf\u001b[39m\u001b[33m\"\u001b[39m\u001b[33mUnrecognized configuration class \u001b[39m\u001b[38;5;132;01m{\u001b[39;00mconfig.\u001b[34m__class__\u001b[39m\u001b[38;5;132;01m}\u001b[39;00m\u001b[33m for this kind of AutoModel: \u001b[39m\u001b[38;5;132;01m{\u001b[39;00m\u001b[38;5;28mcls\u001b[39m.\u001b[34m__name__\u001b[39m\u001b[38;5;132;01m}\u001b[39;00m\u001b[33m.\u001b[39m\u001b[38;5;130;01m\\n\u001b[39;00m\u001b[33m\"\u001b[39m\n\u001b[32m    578\u001b[39m     \u001b[33mf\u001b[39m\u001b[33m\"\u001b[39m\u001b[33mModel type should be one of \u001b[39m\u001b[38;5;132;01m{\u001b[39;00m\u001b[33m'\u001b[39m\u001b[33m, \u001b[39m\u001b[33m'\u001b[39m.join(c.\u001b[34m__name__\u001b[39m\u001b[38;5;250m \u001b[39m\u001b[38;5;28;01mfor\u001b[39;00m\u001b[38;5;250m \u001b[39mc\u001b[38;5;250m \u001b[39m\u001b[38;5;129;01min\u001b[39;00m\u001b[38;5;250m \u001b[39m\u001b[38;5;28mcls\u001b[39m._model_mapping.keys())\u001b[38;5;132;01m}\u001b[39;00m\u001b[33m.\u001b[39m\u001b[33m\"\u001b[39m\n\u001b[32m    579\u001b[39m )\n",
      "\u001b[36mFile \u001b[39m\u001b[32m/opt/miniconda3/envs/PharmAI/lib/python3.11/site-packages/transformers/modeling_utils.py:272\u001b[39m, in \u001b[36mrestore_default_torch_dtype.<locals>._wrapper\u001b[39m\u001b[34m(*args, **kwargs)\u001b[39m\n\u001b[32m    270\u001b[39m old_dtype = torch.get_default_dtype()\n\u001b[32m    271\u001b[39m \u001b[38;5;28;01mtry\u001b[39;00m:\n\u001b[32m--> \u001b[39m\u001b[32m272\u001b[39m     \u001b[38;5;28;01mreturn\u001b[39;00m \u001b[43mfunc\u001b[49m\u001b[43m(\u001b[49m\u001b[43m*\u001b[49m\u001b[43margs\u001b[49m\u001b[43m,\u001b[49m\u001b[43m \u001b[49m\u001b[43m*\u001b[49m\u001b[43m*\u001b[49m\u001b[43mkwargs\u001b[49m\u001b[43m)\u001b[49m\n\u001b[32m    273\u001b[39m \u001b[38;5;28;01mfinally\u001b[39;00m:\n\u001b[32m    274\u001b[39m     torch.set_default_dtype(old_dtype)\n",
      "\u001b[36mFile \u001b[39m\u001b[32m/opt/miniconda3/envs/PharmAI/lib/python3.11/site-packages/transformers/modeling_utils.py:4455\u001b[39m, in \u001b[36mPreTrainedModel.from_pretrained\u001b[39m\u001b[34m(cls, pretrained_model_name_or_path, config, cache_dir, ignore_mismatched_sizes, force_download, local_files_only, token, revision, use_safetensors, weights_only, *model_args, **kwargs)\u001b[39m\n\u001b[32m   4445\u001b[39m     \u001b[38;5;28;01mif\u001b[39;00m dtype_orig \u001b[38;5;129;01mis\u001b[39;00m \u001b[38;5;129;01mnot\u001b[39;00m \u001b[38;5;28;01mNone\u001b[39;00m:\n\u001b[32m   4446\u001b[39m         torch.set_default_dtype(dtype_orig)\n\u001b[32m   4448\u001b[39m     (\n\u001b[32m   4449\u001b[39m         model,\n\u001b[32m   4450\u001b[39m         missing_keys,\n\u001b[32m   4451\u001b[39m         unexpected_keys,\n\u001b[32m   4452\u001b[39m         mismatched_keys,\n\u001b[32m   4453\u001b[39m         offload_index,\n\u001b[32m   4454\u001b[39m         error_msgs,\n\u001b[32m-> \u001b[39m\u001b[32m4455\u001b[39m     ) = \u001b[38;5;28;43mcls\u001b[39;49m\u001b[43m.\u001b[49m\u001b[43m_load_pretrained_model\u001b[49m\u001b[43m(\u001b[49m\n\u001b[32m   4456\u001b[39m \u001b[43m        \u001b[49m\u001b[43mmodel\u001b[49m\u001b[43m,\u001b[49m\n\u001b[32m   4457\u001b[39m \u001b[43m        \u001b[49m\u001b[43mstate_dict\u001b[49m\u001b[43m,\u001b[49m\n\u001b[32m   4458\u001b[39m \u001b[43m        \u001b[49m\u001b[43mcheckpoint_files\u001b[49m\u001b[43m,\u001b[49m\n\u001b[32m   4459\u001b[39m \u001b[43m        \u001b[49m\u001b[43mpretrained_model_name_or_path\u001b[49m\u001b[43m,\u001b[49m\n\u001b[32m   4460\u001b[39m \u001b[43m        \u001b[49m\u001b[43mignore_mismatched_sizes\u001b[49m\u001b[43m=\u001b[49m\u001b[43mignore_mismatched_sizes\u001b[49m\u001b[43m,\u001b[49m\n\u001b[32m   4461\u001b[39m \u001b[43m        \u001b[49m\u001b[43msharded_metadata\u001b[49m\u001b[43m=\u001b[49m\u001b[43msharded_metadata\u001b[49m\u001b[43m,\u001b[49m\n\u001b[32m   4462\u001b[39m \u001b[43m        \u001b[49m\u001b[43mlow_cpu_mem_usage\u001b[49m\u001b[43m=\u001b[49m\u001b[43mlow_cpu_mem_usage\u001b[49m\u001b[43m,\u001b[49m\n\u001b[32m   4463\u001b[39m \u001b[43m        \u001b[49m\u001b[43mdevice_map\u001b[49m\u001b[43m=\u001b[49m\u001b[43mdevice_map\u001b[49m\u001b[43m,\u001b[49m\n\u001b[32m   4464\u001b[39m \u001b[43m        \u001b[49m\u001b[43mdisk_offload_folder\u001b[49m\u001b[43m=\u001b[49m\u001b[43moffload_folder\u001b[49m\u001b[43m,\u001b[49m\n\u001b[32m   4465\u001b[39m \u001b[43m        \u001b[49m\u001b[43moffload_state_dict\u001b[49m\u001b[43m=\u001b[49m\u001b[43moffload_state_dict\u001b[49m\u001b[43m,\u001b[49m\n\u001b[32m   4466\u001b[39m \u001b[43m        \u001b[49m\u001b[43mdtype\u001b[49m\u001b[43m=\u001b[49m\u001b[43mtorch_dtype\u001b[49m\u001b[43m,\u001b[49m\n\u001b[32m   4467\u001b[39m \u001b[43m        \u001b[49m\u001b[43mhf_quantizer\u001b[49m\u001b[43m=\u001b[49m\u001b[43mhf_quantizer\u001b[49m\u001b[43m,\u001b[49m\n\u001b[32m   4468\u001b[39m \u001b[43m        \u001b[49m\u001b[43mkeep_in_fp32_modules\u001b[49m\u001b[43m=\u001b[49m\u001b[43mkeep_in_fp32_modules\u001b[49m\u001b[43m,\u001b[49m\n\u001b[32m   4469\u001b[39m \u001b[43m        \u001b[49m\u001b[43mdevice_mesh\u001b[49m\u001b[43m=\u001b[49m\u001b[43mdevice_mesh\u001b[49m\u001b[43m,\u001b[49m\n\u001b[32m   4470\u001b[39m \u001b[43m        \u001b[49m\u001b[43mkey_mapping\u001b[49m\u001b[43m=\u001b[49m\u001b[43mkey_mapping\u001b[49m\u001b[43m,\u001b[49m\n\u001b[32m   4471\u001b[39m \u001b[43m        \u001b[49m\u001b[43mweights_only\u001b[49m\u001b[43m=\u001b[49m\u001b[43mweights_only\u001b[49m\u001b[43m,\u001b[49m\n\u001b[32m   4472\u001b[39m \u001b[43m        \u001b[49m\u001b[43m_fast_init\u001b[49m\u001b[43m=\u001b[49m\u001b[43m_fast_init\u001b[49m\u001b[43m,\u001b[49m\n\u001b[32m   4473\u001b[39m \u001b[43m    \u001b[49m\u001b[43m)\u001b[49m\n\u001b[32m   4475\u001b[39m \u001b[38;5;66;03m# make sure token embedding weights are still tied if needed\u001b[39;00m\n\u001b[32m   4476\u001b[39m model.tie_weights()\n",
      "\u001b[36mFile \u001b[39m\u001b[32m/opt/miniconda3/envs/PharmAI/lib/python3.11/site-packages/transformers/modeling_utils.py:4784\u001b[39m, in \u001b[36mPreTrainedModel._load_pretrained_model\u001b[39m\u001b[34m(cls, model, state_dict, checkpoint_files, pretrained_model_name_or_path, ignore_mismatched_sizes, sharded_metadata, low_cpu_mem_usage, device_map, disk_offload_folder, offload_state_dict, dtype, hf_quantizer, keep_in_fp32_modules, device_mesh, key_mapping, weights_only, _fast_init)\u001b[39m\n\u001b[32m   4782\u001b[39m is_offloaded_safetensors = checkpoint_files \u001b[38;5;129;01mis\u001b[39;00m \u001b[38;5;129;01mnot\u001b[39;00m \u001b[38;5;28;01mNone\u001b[39;00m \u001b[38;5;129;01mand\u001b[39;00m checkpoint_files[\u001b[32m0\u001b[39m].endswith(\u001b[33m\"\u001b[39m\u001b[33m.safetensors\u001b[39m\u001b[33m\"\u001b[39m)\n\u001b[32m   4783\u001b[39m \u001b[38;5;28;01mif\u001b[39;00m disk_offload_folder \u001b[38;5;129;01mis\u001b[39;00m \u001b[38;5;28;01mNone\u001b[39;00m \u001b[38;5;129;01mand\u001b[39;00m \u001b[38;5;129;01mnot\u001b[39;00m is_offloaded_safetensors:\n\u001b[32m-> \u001b[39m\u001b[32m4784\u001b[39m     \u001b[38;5;28;01mraise\u001b[39;00m \u001b[38;5;167;01mValueError\u001b[39;00m(\n\u001b[32m   4785\u001b[39m         \u001b[33m\"\u001b[39m\u001b[33mThe current `device_map` had weights offloaded to the disk. Please provide an `offload_folder`\u001b[39m\u001b[33m\"\u001b[39m\n\u001b[32m   4786\u001b[39m         \u001b[33m\"\u001b[39m\u001b[33m for them. Alternatively, make sure you have `safetensors` installed if the model you are using\u001b[39m\u001b[33m\"\u001b[39m\n\u001b[32m   4787\u001b[39m         \u001b[33m\"\u001b[39m\u001b[33m offers the weights in this format.\u001b[39m\u001b[33m\"\u001b[39m\n\u001b[32m   4788\u001b[39m     )\n\u001b[32m   4789\u001b[39m \u001b[38;5;28;01mif\u001b[39;00m is_offloaded_safetensors:\n\u001b[32m   4790\u001b[39m     param_device_map = expand_device_map(device_map, checkpoint_keys)\n",
      "\u001b[31mValueError\u001b[39m: The current `device_map` had weights offloaded to the disk. Please provide an `offload_folder` for them. Alternatively, make sure you have `safetensors` installed if the model you are using offers the weights in this format."
     ]
    }
   ],
   "source": [
    "def load_gpt_j_model():\n",
    "    # Detectar el dispositivo disponible: CUDA, MPS (para Mac con Apple Silicon) o CPU\n",
    "    if torch.cuda.is_available():\n",
    "        device = \"cuda\"\n",
    "    elif torch.backends.mps.is_available():\n",
    "        device = \"mps\"\n",
    "    else:\n",
    "        device = \"cpu\"\n",
    "\n",
    "    print(\"Usando dispositivo:\", device)\n",
    "\n",
    "    # Nombre del modelo a cargar (GPT-J-6B)\n",
    "    model_name = \"EleutherAI/gpt-j-6B\"\n",
    "\n",
    "    # Cargar el tokenizador\n",
    "    tokenizer = AutoTokenizer.from_pretrained(model_name, use_fast=False)\n",
    "\n",
    "    # Cargar el modelo, especificando el tipo de datos y usando device_map=\"auto\" para aprovechar la GPU\n",
    "    model = AutoModelForCausalLM.from_pretrained(\n",
    "        model_name,\n",
    "        torch_dtype=torch.float16 if device in [\"cuda\", \"mps\"] else torch.float32,\n",
    "        device_map=\"auto\",\n",
    "    )\n",
    "\n",
    "    return model, tokenizer\n",
    "\n",
    "# Cargar el modelo\n",
    "#model, tokenizer = load_gpt_j_model()"
   ]
  },
  {
   "cell_type": "markdown",
   "metadata": {},
   "source": [
    "---\n",
    "### **2. Funciones para buscar el contexto en la BBDD vectorial**"
   ]
  },
  {
   "cell_type": "code",
   "execution_count": 15,
   "metadata": {},
   "outputs": [],
   "source": [
    "def retrieve_relevant_fragments_prueba(query, model, fragments, index, k=10):\n",
    "    \"\"\"\n",
    "    Recupera los fragmentos más relevantes para la consulta utilizando un modelo de similitud (ej. FAISS).\n",
    "\n",
    "    Parámetros:\n",
    "    - query (str): Consulta del usuario.\n",
    "    - top_k (int): Número de fragmentos a recuperar.\n",
    "\n",
    "    Retorna:\n",
    "    - list: Lista de fragmentos relevantes.\n",
    "    \"\"\"\n",
    "    # Simulación de la búsqueda, usando FAISS o similar.\n",
    "    # Esto debería ser reemplazado por la implementación real que recupera los fragmentos relevantes.\n",
    "    # Suponemos que \"retrieved_fragments\" es el resultado de una búsqueda en base de datos vectorial.\n",
    "    '''\n",
    "    retrieved_fragments = [\n",
    "        {\n",
    "            \"medicamento\": \"Aspirina\",\n",
    "            \"categoria\": \"efectos_secundarios\",\n",
    "            \"texto\": \"Puede causar náuseas y dolor de estómago.\",\n",
    "        },\n",
    "        {\n",
    "            \"medicamento\": \"Paracetamol\",\n",
    "            \"categoria\": \"efectos_secundarios\",\n",
    "            \"texto\": \"Puede causar problemas hepáticos en dosis altas.\",\n",
    "        },\n",
    "    ]\n",
    "    '''\n",
    "    retrieved_fragments = [\n",
    "        {\n",
    "            \"medicamento\": \"Paracetamol\",\n",
    "            \"categoria\": \"efectos_secundarios\",\n",
    "            \"texto\": \"Puede causar problemas hepáticos en dosis altas.\",\n",
    "        }\n",
    "    ]\n",
    "    return retrieved_fragments"
   ]
  },
  {
   "cell_type": "code",
   "execution_count": 16,
   "metadata": {},
   "outputs": [],
   "source": [
    "def retrieve_relevant_fragments(query, embedding_model, fragments, index, k=10):\n",
    "    \"\"\"\n",
    "    Realiza una búsqueda en FAISS para encontrar los fragmentos más similares a la consulta.\n",
    "\n",
    "    Parámetros:\n",
    "    - query (str): La consulta en lenguaje natural.\n",
    "    - k (int): Número de resultados a recuperar.\n",
    "\n",
    "    Retorna:\n",
    "    - Lista de fragmentos de texto relevantes.\n",
    "    \"\"\"\n",
    "    \n",
    "    # Convertir la consulta en embedding\n",
    "    query_embedding = embedding_model.encode(query, convert_to_numpy=True).reshape(1, -1)\n",
    "\n",
    "    # Buscar los k embeddings más cercanos\n",
    "    distances, indices = index.search(query_embedding, k)\n",
    "\n",
    "    # Recuperar los fragmentos correspondientes, incluyendo las distancias\n",
    "    results = []\n",
    "    for i, idx in enumerate(indices[0]):\n",
    "        if idx < len(fragments):  # Asegurar que el índice es válido\n",
    "            results.append(\n",
    "                {\n",
    "                    **fragments[idx],  # Añadir los datos del fragmento\n",
    "                    \"distance\": distances[0][i],  # Añadir la distancia de similitud\n",
    "                }\n",
    "            )\n",
    "\n",
    "    return results"
   ]
  },
  {
   "cell_type": "code",
   "execution_count": 17,
   "metadata": {},
   "outputs": [],
   "source": [
    "def format_context(retrieved_fragments, max_fragments=10, max_text_length=2000):\n",
    "    \"\"\"\n",
    "    Formatea los fragmentos recuperados en un contexto para el modelo. Transforma una lista de diccionarios en un texto estructurado.\n",
    "\n",
    "    Parámetros:\n",
    "    - retrieved_fragments (list): Lista de fragmentos recuperados (diccionarios)\n",
    "    - max_fragments (int): Número máximo de fragmentos a utilizar\n",
    "    - max_text_length (int): Longitud máxima del texto a mostrar por fragmento\n",
    "\n",
    "    Retorna:\n",
    "    - str: Contexto formateado para el modelo\n",
    "    \"\"\"\n",
    "    context = \"\"\n",
    "    \n",
    "    # Asegurar que no se intenten tomar más fragmentos de los que existen\n",
    "    num_fragments = min(len(retrieved_fragments), max_fragments)\n",
    "\n",
    "    for i, frag in enumerate(retrieved_fragments[:num_fragments]):\n",
    "        # Verificar que cada fragmento tenga las claves necesarias\n",
    "        if not all(key in frag for key in [\"medicamento\", \"categoria\", \"texto\"]):\n",
    "            print(f\"Advertencia: Fragmento {i+1} no tiene la estructura esperada.\")\n",
    "            continue  # Saltar fragmentos mal formateados\n",
    "\n",
    "        medicamento = frag[\"medicamento\"]\n",
    "        categoria = frag[\"categoria\"]\n",
    "        texto = frag[\"texto\"]\n",
    "\n",
    "        # Limitar la longitud del texto\n",
    "        truncated_text = (\n",
    "            texto[:max_text_length] + \"...\" if len(texto) > max_text_length else texto\n",
    "        )\n",
    "\n",
    "        # Construcción del contexto\n",
    "        context += f\"\\nFragmento {i+1}:\\n\"\n",
    "        context += f\"Medicamento: {medicamento}\\n\"\n",
    "        context += f\"Categoría: {categoria}\\n\"\n",
    "        context += f\"Información: {truncated_text}\\n\"\n",
    "\n",
    "    return context"
   ]
  },
  {
   "cell_type": "markdown",
   "metadata": {},
   "source": [
    "---\n",
    "### **3. Función para construir el Prompt**"
   ]
  },
  {
   "cell_type": "markdown",
   "metadata": {},
   "source": [
    "##### **Prompt resumido**"
   ]
  },
  {
   "cell_type": "code",
   "execution_count": 18,
   "metadata": {},
   "outputs": [
    {
     "data": {
      "text/plain": [
       "'\\ndef build_prompt(context, query):\\n    \"\"\"\\n    Construye el prompt para el modelo con base en el contexto y la consulta,\\n    incluyendo un ejemplo de cómo debe formatear la respuesta.\\n\\n    Parámetros:\\n    - context (str): Contexto a proporcionar al modelo\\n    - query (str): Consulta del usuario\\n\\n    Retorna:\\n    - str: Prompt completo para el modelo\\n    \"\"\"\\n    prompt = f\"\"\"Eres un asistente médico especializado en información sobre medicamentos.\\n    Basándote ÚNICAMENTE en la siguiente información sobre medicamentos:\\n\\n    {context}\\n\\n    Responde de manera clara y precisa a esta pregunta: {query}\\n\\n    Ejemplo de consulta:\\n    Pregunta: ¿Cuáles son los efectos secundarios de la aspirina?\\n    Contexto: \\n    Fragmento 1:\\n    Medicamento: Aspirina\\n    Categoría: reacciones_adversas\\n    Información: Los efectos secundarios comunes incluyen náuseas, dolor de estómago y sangrados.\\n\\n    Respuesta:\\n    La aspirina puede causar efectos secundarios como náuseas, dolor de estómago y sangrados. Si necesitas más detalles, por favor consulta la ficha técnica completa.\\n\\n    Si la información proporcionada no es suficiente para responder completamente, indica qué datos faltan, pero no inventes información ni dejes la respuesta vacía.\\n\\n    Tu respuesta debe ser:\\n    1. Precisa y basada solo en el contexto proporcionado.\\n    2. Estructurada y fácil de entender.\\n    3. Sin añadir información que no esté en los fragmentos.\\n    4. Con referencias claras al medicamento mencionado.\\n\\n    Respuesta:\"\"\"\\n    return prompt\\n'"
      ]
     },
     "execution_count": 18,
     "metadata": {},
     "output_type": "execute_result"
    }
   ],
   "source": [
    "'''\n",
    "def build_prompt(context, query):\n",
    "    \"\"\"\n",
    "    Construye el prompt para el modelo con base en el contexto y la consulta,\n",
    "    incluyendo un ejemplo de cómo debe formatear la respuesta.\n",
    "\n",
    "    Parámetros:\n",
    "    - context (str): Contexto a proporcionar al modelo\n",
    "    - query (str): Consulta del usuario\n",
    "\n",
    "    Retorna:\n",
    "    - str: Prompt completo para el modelo\n",
    "    \"\"\"\n",
    "    prompt = f\"\"\"Eres un asistente médico especializado en información sobre medicamentos.\n",
    "    Basándote ÚNICAMENTE en la siguiente información sobre medicamentos:\n",
    "\n",
    "    {context}\n",
    "\n",
    "    Responde de manera clara y precisa a esta pregunta: {query}\n",
    "\n",
    "    Ejemplo de consulta:\n",
    "    Pregunta: ¿Cuáles son los efectos secundarios de la aspirina?\n",
    "    Contexto: \n",
    "    Fragmento 1:\n",
    "    Medicamento: Aspirina\n",
    "    Categoría: reacciones_adversas\n",
    "    Información: Los efectos secundarios comunes incluyen náuseas, dolor de estómago y sangrados.\n",
    "\n",
    "    Respuesta:\n",
    "    La aspirina puede causar efectos secundarios como náuseas, dolor de estómago y sangrados. Si necesitas más detalles, por favor consulta la ficha técnica completa.\n",
    "\n",
    "    Si la información proporcionada no es suficiente para responder completamente, indica qué datos faltan, pero no inventes información ni dejes la respuesta vacía.\n",
    "\n",
    "    Tu respuesta debe ser:\n",
    "    1. Precisa y basada solo en el contexto proporcionado.\n",
    "    2. Estructurada y fácil de entender.\n",
    "    3. Sin añadir información que no esté en los fragmentos.\n",
    "    4. Con referencias claras al medicamento mencionado.\n",
    "\n",
    "    Respuesta:\"\"\"\n",
    "    return prompt\n",
    "'''\n"
   ]
  },
  {
   "cell_type": "markdown",
   "metadata": {},
   "source": [
    "##### **Prompt mejorado**"
   ]
  },
  {
   "cell_type": "code",
   "execution_count": 19,
   "metadata": {},
   "outputs": [],
   "source": [
    "def build_prompt(context, query):\n",
    "    \"\"\"\n",
    "    Construye el prompt para el modelo con base en el contexto y la consulta,\n",
    "    incluyendo un ejemplo de cómo debe formatear la respuesta.\n",
    "\n",
    "    Parámetros:\n",
    "    - context (str): Contexto a proporcionar al modelo\n",
    "    - query (str): Consulta del usuario\n",
    "\n",
    "    Retorna:\n",
    "    - str: Prompt completo para el modelo\n",
    "    \"\"\"\n",
    "    prompt = f\"\"\"\n",
    "    \n",
    "    1. OBJETIVO GENERAL:\n",
    "    Eres un asistente médico especializado en información sobre medicamentos. Debes responder a la pregunta del usuario basándote únicamente en la información proporcionada. No debes inventar ni suponer información adicional.\n",
    "\n",
    "    2. FORMATO DEL CONTEXTO:\n",
    "    El contexto se presenta como un texto con varios fragmentos que contiene información de uno o varios medicamentos presentes en la pregunta del ususario, donde cada fragmento tiene el siguiente formato:\n",
    "    - Medicamento: Nombre del medicamento\n",
    "    - Categoría: Categoría de la información (ej. efectos secundarios, interacciones)\n",
    "    - Información: Texto relevante sobre el medicamento, el cual debes analizar antes de responder.\n",
    "\n",
    "    3. FORMATO DE RESPUESTA:\n",
    "    - Debes responder de manera clara y precisa a la pregunta formulada por el usuario, utilizando ÚNICAMENTE el contexto que se te está proporcionando. \n",
    "    - No debes inventar información ni suponer datos que no estén presentes en el contexto.\n",
    "    - Si la información proporcionada no es suficiente para responder completamente, dilo e indica qué datos faltan.\n",
    "    - Incluye una mención explícita a los textos que respaldan tu respuesta, indicando para todos ellos el medicamento y la categoría.\n",
    "    - Si la pregunta no está relacionada con medicamentos, indica que no puedes ayudar en ese caso.\n",
    "\n",
    "    4. EJEMPLO DE CONSULTA Y DE RESPUESTA ESPERADA:\n",
    "    Pregunta: ¿Cuáles son los efectos secundarios de la aspirina?\n",
    "    Contexto:\n",
    "        \"medicamento\": \"Aspirina\"\n",
    "        \"categoria\": \"efectos_secundarios\"\n",
    "        \"texto\": \"Puede causar náuseas y dolor de estómago.\"\n",
    "    Respuesta:\n",
    "    La aspirina puede causar efectos secundarios como náuseas y dolor de estómago (extraído de la ficha técnica, de la sección \"efectos_secundarios\" del medicamento \"ASPIRINA\": \"la aspirina tiene como efectos secundarios, entre ottros, la aparición de náuseas y dolor de tripa\"). Si necesitas más detalles, por favor consulta la ficha técnica completa.\n",
    "\n",
    "    5. INSTRUCCIONES FINALES:\n",
    "    Básandote ÚNICAMENTE en la información proporcionada en ({context}), responde a la siguiente pregunta:\n",
    "    {query}\n",
    "\n",
    "    Respuesta:\"\"\"\n",
    "    return prompt\n"
   ]
  },
  {
   "cell_type": "markdown",
   "metadata": {},
   "source": [
    "---\n",
    "### **4. Función para generar respuestas basadas en el contexto y el prompt**"
   ]
  },
  {
   "cell_type": "code",
   "execution_count": 26,
   "metadata": {},
   "outputs": [],
   "source": [
    "def generate_answer(query, context, tokenizer, model):\n",
    "    \"\"\"\n",
    "    Genera una respuesta basada en los fragmentos recuperados usando LLaMA.\n",
    "\n",
    "    Parámetros:\n",
    "    - query (str): La consulta del usuario\n",
    "    - context (string): Texto formateado con los fragmentos recuperados \n",
    "    - tokenizer: Tokenizador del modelo\n",
    "    - model: Modelo generativo\n",
    "\n",
    "    Retorna:\n",
    "    - str: Respuesta generada\n",
    "    \"\"\"\n",
    "\n",
    "    # Construimos el prompt para el modelo\n",
    "    prompt = build_prompt(context, query)\n",
    "\n",
    "    # Tokenizamos el prompt\n",
    "    input_ids = tokenizer.encode(prompt, return_tensors=\"pt\")\n",
    "\n",
    "    # Detectar el dispositivo disponible: CUDA, MPS (para Mac con Apple Silicon) o CPU\n",
    "    if torch.cuda.is_available():\n",
    "        device = \"cuda\"\n",
    "    elif torch.backends.mps.is_available():\n",
    "        device = \"mps\"\n",
    "    else:\n",
    "        device = \"cpu\"\n",
    "\n",
    "    print(\"Usando dispositivo:\", device)\n",
    "\n",
    "    input_ids = input_ids.to(device)\n",
    "\n",
    "    # Generamos la respuesta usando el modelo\n",
    "    with torch.no_grad():\n",
    "        output_ids = model.generate(\n",
    "            input_ids,\n",
    "            max_length=len(input_ids[0]) + 2000,  # Limita la longitud de salida\n",
    "            do_sample=True,\n",
    "            temperature=0.1,\n",
    "            top_p=0.9,\n",
    "            repetition_penalty=1.2,\n",
    "        )\n",
    "\n",
    "    # Decodificamos la respuesta generada\n",
    "    response = tokenizer.decode(output_ids[0], skip_special_tokens=True)\n",
    "\n",
    "    # Extraemos solo la parte de la respuesta después del prompt\n",
    "    response = response[\n",
    "        len(prompt) :\n",
    "    ].strip()  # Ajuste para capturar la respuesta correctamente\n",
    "\n",
    "    return response"
   ]
  },
  {
   "cell_type": "markdown",
   "metadata": {},
   "source": [
    "---\n",
    "### **5. Función para realizar la consulta**"
   ]
  },
  {
   "cell_type": "code",
   "execution_count": 22,
   "metadata": {},
   "outputs": [],
   "source": [
    "def answer_query(query, model, tokenizer):\n",
    "    \"\"\"\n",
    "    Realiza una consulta y genera una respuesta utilizando el modelo.\n",
    "\n",
    "    Parámetros:\n",
    "    - query (str): La consulta del usuario\n",
    "\n",
    "    Retorna:\n",
    "    - str: Respuesta generada\n",
    "    \"\"\"\n",
    "\n",
    "    # 1. Converir la consulta a minúsculas\n",
    "    query = query.lower()\n",
    "\n",
    "    # 2. Recuperamos los fragmentos relevantes para la consulta\n",
    "    embedding_model = SentenceTransformer(\"all-MiniLM-L6-v2\") # old\n",
    "    fragments = load_json(\"../../data/outputs/5_chatbot/contexto_medicamentos_chatbot.json\") \n",
    "    index = faiss.read_index(\"../../data/outputs/5_chatbot/faiss_index_IndexFlatL2.bin\") # old\n",
    "\n",
    "    # 3. Busca los fragmentos relevantes\n",
    "    #retrieved_fragments = retrieve_relevant_fragments_prueba(query, embedding_model, fragments, index, k=5)\n",
    "    retrieved_fragments = retrieve_relevant_fragments(query, embedding_model, fragments, index, k=10)\n",
    "\n",
    "    # 4. Aplicamos formateo al contexto\n",
    "    print(f\"Fragmentos recuperados: {retrieved_fragments}\")\n",
    "    context = format_context(retrieved_fragments, max_fragments=10, max_text_length=2000)\n",
    "\n",
    "    # 5. Generamos la respuesta del modelo\n",
    "    print(f\"Contexto: {context}\")\n",
    "    response = generate_answer(query, context, tokenizer, model)\n",
    "\n",
    "    return response"
   ]
  },
  {
   "cell_type": "markdown",
   "metadata": {},
   "source": [
    "---\n",
    "### **6. Ejemplo de Consulta**"
   ]
  },
  {
   "cell_type": "code",
   "execution_count": 30,
   "metadata": {},
   "outputs": [
    {
     "name": "stdout",
     "output_type": "stream",
     "text": [
      "Fragmentos recuperados: [{'medicamento': 'ibuprofeno sandoz', 'nombre_medicamento_completo': 'ibuprofeno_sandoz_100_mg_5_ml_suspension_oral', 'categoria': 'efectos_conducir', 'texto': 'para el uso a corto plazo de ibuprofeno, no es necesario tomar precauciones especiales.', 'distance': np.float32(0.48100013)}, {'medicamento': 'ibuprofeno sandoz', 'nombre_medicamento_completo': 'ibuprofeno_sandoz_40_mg_ml_suspension_oral', 'categoria': 'efectos_conducir', 'texto': 'para el uso a corto plazo de ibuprofeno, no es necesario tomar precauciones especiales.', 'distance': np.float32(0.48100013)}, {'medicamento': 'ibuprofeno ambah', 'nombre_medicamento_completo': 'ibuprofeno_ambah_400_mg_solucion_para_perfusion', 'categoria': 'incompatibilidades', 'texto': 'ibuprofeno ambah no debe mezclarse con otros medicamentos.', 'distance': np.float32(0.58221006)}, {'medicamento': 'ibuprofeno cinfa', 'nombre_medicamento_completo': 'ibuprofeno_cinfa_20_mg_ml_suspensión_oral_efg', 'categoria': 'indicaciones', 'texto': 'ibuprofeno está indicado en niños a partir de 3 meses y hasta 12 años para el: alivio sintomático de los dolores ocasionales leves o moderados. estados febriles.', 'distance': np.float32(0.59231824)}, {'medicamento': 'eudorlin infantil', 'nombre_medicamento_completo': 'eudorlin_infantil_20_mg_ml_suspension_oral', 'categoria': 'interacciones', 'texto': 'el ibuprofeno (al igual que otros aine) debe combinarse con precaución con los siguientes medicamentos: otros aine, incluyendo salicilatos: la administración concomitante de diferentes aine puede aumentar el riesgo de úlceras gastrointestinales y hemorragias debido a un efecto sinérgico. por tanto, debe evitarse el uso concomitante de ibuprofeno con otros aine digoxina, fenitoina, litio: el uso concomitante de eudorlin infantil con digoxina, fenitoina y litio puede aumentar los niveles séricos de estos medicamentos. generalmente, no se requiere un control de los niveles séricos de digoxina, fenitoina y litio si se usan correctamente (máximo a partir de los 3 días). diuréticos, inhibidores del eca, betabloqueantes y antagonistas de angiotensina ii: los aine pueden reducir el efecto de los diuréticos y de otros medicamentos antihipertensivos. en pacientes con deterioro de la función renal (p. ej., pacientes deshidratados o pacientes de edad avanzada con deterioro de la función renal) la administración combinada de inhibidores de eca, betabloqueantes o antagonistas de la angiotensina ii y agentes que inhiben la ciclooxigenasa pueden ocasionar un deterioro adicional de la función renal, incluso una posible insuficiencia renal aguda, que normalmente es reversible. por tanto, esta combinación debe administrarse con precaución, especialmente en personas de edad avanzada. los pacientes deberán hidratarse adecuadamente y una vez comenzado el tratamiento concomitante deberán someterse a un control periódico de la función renal. la administración concomitante de eudorlin infantil y diuréticos ahorradores de potasio puede dar lugar a hiperpotasemia. corticosteroides: aumento del riesgo de úlcera o hemorragia gastrointestinal agentes antiagragantes plaquetarios e inhibidores selectivos de la recaptación de serotonina (isrs): aumento del riesgo de hemorragia gastrointestinal ácido acetilsalicílico en general, no se recomienda la administración concomitante de ibuprofeno y ácido acetilsalicílico debido a la posibilidad de que aumenten los efectos adversos. datos experimentales sugieren que ibuprofeno puede inhibir de forma competitiva el efecto de dosis bajas de ácido acetilsalicílico sobre la agregación plaquetaria cuando se administran de forma concomitante. aunque hay ciertas dudas respecto a la extrapolación de estos datos a la situación clínica, la posibilidad de que el uso habitual a largo plazo de ibuprofeno pueda reducir el efecto cardioprotector de dosis bajas de ácido acetilsalicílico no puede excluirse. se considera que es probable que no haya un efecto clínicamente relevante con el uso ocasional de ibuprofeno metotrexato: la administración de eudorlin infantil durante las 24 horas anteriores o posteriores a la administración de metotrexato puede ocasionar concentraciones elevadas de metotrexato, así como un aumento de su efecto tóxico. ciclosporina: el riesgo de deterioro renal debido a ciclosporina aumenta al administrarse de forma concomitante con ciertos medicamentos antiinflamatorios no esteroideos. este efecto tampoco puede descartarse en la combinación de ciclosporina con ibuprofeno. anticoagulantes: los aine pueden aumentar el efecto de los anticoagulantes, como la warfarina sulfonilureas: estudios clínicos han demostrado interacciones entre los medicamentos antiinflamatorios no esteroideos y los antidiabéticos (sulfonilureas). aunque, hasta la fecha, las interacciones entre ibuprofeno y sulfonilureas no se han descrito, se recomienda comprobar los valores de glucosa en sangre como medida de precaución cuando se utilice un tratamiento combinado. tacrolimus: el riesgo de nefrotoxicidad aumenta si se administran conjuntamente los dos medicamentos. zidovudina: se ha demostrado un aumento del riesgo de hemartrosis y hematomas en pacientes hemofílicos vih positivos que toman zidovudina e ibuprofeno de forma concomitante. probenecid y sulfinpirazona: los medicamentos que contienen probenecid o sulfinpirazona pueden retrasar la eliminación de ibuprofeno. quinolonas: los datos obtenidos de estudios en animales indican que los aine pueden aumentar el riesgo de convulsiones asociadas a quinolonas. los pacientes que tomen aine y quinolonas pueden presentar mayor riesgo de desarrollar convulsiones. inhibidores de cyp2c9: la administración concomitante de ibuprofeno e inhibidores de cyp2c9 puede aumentar la exposición al ibuprofeno (sustrato de cyp2c9). en un estudio con voriconazol y fluconazol (inhibidores de cyp2c9), se demostró una mayor exposición a s(+)-ibuprofeno de aproximadamente un 80% a un 100%. la reducción de la dosis de ibuprofeno debe considerarse si se administran inhibidores potentes de cyp2c9 de forma concomitante, especialmente cuando se administra ibuprofeno a dosis altas tanto con voriconazol como con fluconazol.', 'distance': np.float32(0.6105144)}, {'medicamento': 'neobrufen con codeina', 'nombre_medicamento_completo': 'neobrufen_con_codeina_400_mg_30_mg_comprimidos_recubiertos_con_pelicula', 'categoria': 'advertencias', 'texto': 'las reacciones adversas se pueden minimizar utilizando la dosis eficaz más baja durante el menor tiempo necesario para aliviar los síntomas y secciones posteriores). al igual que sucede con otros opioides, si el control del dolor es insuficiente pese al aumento de la dosis de codeína, debe considerarse la posibilidad de hiperalgesia inducida por fármacos. puede estar indicada la reducción de la dosis o la revisión del tratamiento. advertencias debidas al ibuprofeno enmascaramiento de los síntomas de infecciones subyacentes: como cualquier otro aine, el ibuprofeno puede enmascarar los síntomas de una infección, lo que puede retrasar el inicio del tratamiento adecuado y, por tanto, empeorar el desenlace de la infección. esto se ha observado en la neumonía bacteriana extrahospitalaria y en las complicaciones bacterianas de la varicela. cuando se administre ibuprofeno para aliviar la fiebre o el dolor relacionados con una infección, se recomienda vigilar la infección. en entornos no hospitalarios, el paciente debe consultar a un médico si los síntomas persisten o empeoran. con el uso prolongado de analgésicos pueden aparecer dolores de cabeza que no deben ser tratados incrementando la dosis del producto. las reacciones adversas provocadas por ibuprofeno, especialmente las relacionadas con el tracto gastrointestinal o sistema nervioso, pueden verse aumentadas por el consumo de alcohol. riesgos gastrointestinales hemorragias gastrointestinales, úlceras y perforaciones: durante el tratamiento con antiinflamatorios no esteroideos (aines) entre ibuprofeno, se han notificado hemorragias gastrointestinales, úlceras y perforaciones (que pueden ser mortales) en cualquier momento del mismo, con o sin síntomas previos de alerta y con o sin antecedentes previos de acontecimientos gastrointestinales graves previos los que se encuentra el riesgo de hemorragia gastrointestinal, úlcera o perforación es mayor cuando se utilizan dosis crecientes de aines, en pacientes con antecedentes de úlcera, especialmente si eran úlceras complicadas con hemorragia o perforación , y en los pacientes de edad avanzada. estos pacientes deben comenzar el tratamiento con la dosis menor posible. se recomienda prescribir a estos pacientes tratamiento concomitante con agentes protectores (p.ej. misoprostol o inhibidores de la bomba de protones); dicho tratamiento combinado también debería considerarse en el caso de pacientes que precisen dosis bajas de ácido acetilsalicílico u otros medicamentos que puedan aumentar el riesgo gastrointestinal (ver a continuación sección 4.5). se debe recomendar una precaución especial a aquellos pacientes que reciben tratamientos concomitantes que podrían elevar el riesgo de úlcera o sangrado gastrointestinal como los anticoagulantes orales del tipo dicumarínicos (p. ej., warfarina), o los medicamentos antiagregantes plaquetarios del tipo ácido acetilsalicílico asimismo, se debe mantener cierta precaución en la administración concomitante de corticoides orales y de antidepresivos inhibidores selectivos de la recaptación de serotonina (isrs). se debe advertir a los pacientes con antecedentes de toxicidad gastrointestinal, y en especial a los pacientes de edad avanzada, que comuniquen inmediatamente al médico cualquier síntoma abdominal infrecuente (especialmente sangrado gastrointestinal) durante el tratamiento y en particular en los estadios iniciales. deben utilizarse con precaución en pacientes con antecedentes de ulcera péptica o con historial de enfermedades gastrointestinales, como colitis ulcerosa o enfermedad de crohn, ya que puede exacerbar dichas patologías se debe evitar la administración concomitante de neobrufen con codeína con otros aines, incluyendo los inhibidores selectivos de la ciclo-oxigenasa-2 (coxib) debido al mayor riesgo de úlceras o sangrado si se produjera una hemorragia gastrointestinal o una úlcera en pacientes en tratamiento con este medicamento, el tratamiento debe suspenderse inmediatamente riesgos cardiovasculares y cerebrovasculares se debe tener una precaución especial en pacientes con antecedentes de hipertensión y/o insuficiencia cardiaca, ya que se ha notificado retención de líquidos y edema en asociación con el tratamiento con aines. estudios clínicos sugieren que el uso de ibuprofeno, especialmente en dosis altas (2.400 mg día) puede estar asociado a un pequeño aumento del riesgo de acontecimientos trombóticos arteriales (por ejemplo, infarto de miocardio o ictus). en general, los estudios epidemiológicos no sugieren que el ibuprofeno a dosis bajas (p.ej. 1.200 mg/día) esté asociado a un aumento del riesgo de acontecimientos trombóticos arteriales. también se debe aplicar una cuidadosa valoración antes de iniciar el tratamiento a largo plazo de pacientes con factores de riesgo de acontecimientos cardiovasculares (p.ej. hipertensión, hiperlipidemia, diabetes mellitus, tabaquismo), en especial si se necesitan dosis elevadas de ibuprofeno (2.400 mg/día). los pacientes con hipertensión no controlada, insuficiencia cardiaca congestiva (ii-iii de nyha), cardiopatía isquémica establecida, arteriopatía periférica y/o enfermedad cerebrovascular sólo se deben tratar con ibuprofeno después de una cuidadosa valoración y se debe evitar las dosis altas (2.400 mg/día). se han notificado casos de síndrome de kounis en pacientes tratados con productos que contienen ibuprofeno, como neobrufen con codeína. se ha definido el síndrome de kounis como síntomas cardiovasculares secundarios a una reacción alérgica o de hipersensibilidad que causa la constricción de las arterias coronarias y puede provocar infarto de miocardio. riesgos de reacciones cutáneas graves se han descrito reacciones cutáneas graves, algunas mortales, incluyendo dermatitis exfoliativa, síndrome de stevens-johnson, y necrólisis epidérmica tóxica con una frecuencia muy rara en asociación con la utilización de aines parece que los pacientes tienen mayor riesgo de sufrir estas reacciones al comienzo del tratamiento: la aparición de dicha reacción adversa ocurre en la mayoría de los casos durante el primer mes de tratamiento. se ha notificado pustulosis exantemática generalizada aguda (pega) asociada a productos que contienen ibuprofeno. debe suspenderse inmediatamente la administración de neobrufen con codeína ante los primeros síntomas de eritema cutáneo, lesiones mucosas u otros signos de hipersensibilidad. insuficiencia cardiaca, renal y/o hepática: ibuprofeno debe ser utilizado con precaución en pacientes con historia de enfermedad cardiaca, hepática o renal y especialmente durante el tratamiento simultáneo con diuréticos, ya que debe tenerse en cuenta que la inhibición de prostaglandinas puede producir retención de líquidos y deterioro de la función renal. en caso de ser administrado en estos pacientes, la dosis de ibuprofeno debe mantenerse lo más baja posible y el menor tiempo posible, y vigilar regularmente la función renal especialmente en tratamientos prolongados en caso de deshidratación, debe asegurarse una ingesta suficiente de líquido. debe tenerse especial precaución en niños con una deshidratación grave, por ejemplo, debida a diarrea, ya que la deshidratación conjuntamente con la administración de ibuprofeno puede actuar como un factor desencadenante de una insuficiencia renal. en general el uso habitual de analgésicos, especialmente la combinación de diferentes sustancias analgésicas puede llevar a lesiones renales duraderas, con el riesgo de insuficiencia renal (nefropatía analgésica). un alto riesgo de sufrir esta reacción, lo tienen los pacientes de edad avanzada y aquellos pacientes con insuficiencia renal, fallo cardiaco, disfunción hepática, aquellos que están siendo tratados con diuréticos o con antihipertensivos (ieca). al interrumpir la terapia con aines normalmente se consigue el restablecimiento al estado de pretratamiento. se han notificado hipocalemia grave y acidosis tubular renal debido al uso prolongado de ibuprofeno en dosis superiores a las recomendadas. este riesgo aumenta con el uso de codeína/ibuprofeno, ya que los pacientes pueden volverse dependientes del componente codeína (ver la advertencia sobre el trastorno por uso de opioide, sección 4.8 y sección 4.9). los signos y síntomas que se presentaron fueron disminución del nivel de consciencia y debilidad generalizada. se debe tener en cuenta la posibilidad de acidosis tubular renal inducida por ibuprofeno en pacientes con hipocalemia y acidosis metabólica de causa desconocida. como ocurre con otros aines, el ibuprofeno puede producir aumentos transitorios leves de algunos parámetros de función hepática, así como aumentos significativos de las transaminasas. en caso de producirse un aumento importante de estos parámetros, deberá suspenderse el tratamiento (ver secciones 4.2 y 4.3). trastornos respiratorios: el ibuprofeno puede causar reacciones alérgicas en pacientes con alergia al ácido acetilsalicílico y a otros analgésicos o aines debe ser utilizado con precaución en pacientes con historial de patologías alérgicas como broncoespasmo, urticaria o angioedema. efectos hematológicos: el ibuprofeno, al igual que otros aines, puede inhibir la agregación plaquetaria y se ha visto que prolonga el tiempo de hemorragia en pacientes que no presenten otras complicaciones, por lo que este medicamento debe ser utilizado con precaución en pacientes con alteraciones de la coagulación sanguínea o en tratamiento con anticoagulantes el tiempo de protrombina debe ser monitorizado diariamente durante los primeros días del tratamiento combinado. otros: en raras ocasiones se ha observado meningitis aséptica en pacientes con tratamiento con ibuprofeno. aunque este efecto es más probable en pacientes con lupus eritematoso sistémico y otras enfermedades del colágeno, también ha sido notificado en algunos pacientes que no padecían una patología crónica, por lo que debe tenerse en cuenta en caso de administrarse el fármaco. se requiere un especial control médico durante su administración en pacientes inmediatamente después de ser sometidos a una cirugía mayor. como ocurre con otros aines, pueden producirse reacciones alérgicas, tales como reacciones anafilácticas, sin exposición previa al fármaco. solo debe utilizarse tras la valoración estricta del beneficio/riesgo en pacientes con porfiria intermitente aguda. excepcionalmente, la varicela puede ser el origen de infecciones cutáneas graves y complicaciones en tejido blando. hasta la fecha, no puede descartarse el papel de los aines en el empeoramiento de estas infecciones. por lo tanto, debe evitarse la administración de ibuprofeno en caso de varicela. pueden aparecer alteraciones visuales que pueden remitir espontáneamente. advertencias debidas a la codeína trastornos hepatobiliares la codeína puede provocar disfunción y espasmos en el esfínter de oddi, lo que aumenta el riesgo de síntomas de las vías biliares y pancreatitis. por lo tanto, codeína/ibupofeno se deben administrar con precaución a pacientes con pancreatitis y afecciones de las vías biliares. debido a la depresión respiratoria, este medicamento también debe ser utilizado con precaución, debido a los efectos de la codeína, en pacientes con antecedentes de asma bronquial o rinitis crónica. trastornos respiratorios relacionados con el sueño los opioides pueden provocar trastornos respiratorios relacionados con el sueño, incluida apnea central del sueño (acs) e hipoxemia relacionada con el sueño. el uso de opioides aumenta el riesgo de acs de manera dependiente de la dosis. en pacientes con acs, considere reducir la dosis total de opioides. tolerancia y trastorno por uso de opioide (abuso y dependencia) con la administración repetida de opioides como neobrufen con codeína, pueden desarrollarse tolerancia, dependencia física y psicológica y trastorno por uso de opioides (tuo). el uso repetido de neobrufen con codeína puede producir tuo. las dosis altas y la mayor duración del tratamiento con opioides pueden aumentar el riesgo de desarrollar tuo. el abuso o el mal uso intencionado de neobrufen con codeína pueden causar sobredosis y/o la muerte. se han notificado desenlaces clínicos graves, incluidos fallecimientos, asociados al abuso y la dependencia de las combinaciones de codeína e ibuprofeno, especialmente cuando se toman durante períodos prolongados en dosis superiores a las recomendadas. algunos de ellos son perforaciones digestivas, hemorragias digestivas, anemia grave, insuficiencia renal, acidosis tubular renal e hipocalemia grave asociadas al componente ibuprofeno. el riesgo de desarrollar tuo es mayor en pacientes con antecedentes personales o familiares (progenitores o hermanos/as) de trastornos por uso de sustancias (incluido el trastorno por consumo de alcohol), que fumen en la actualidad o que tengan antecedentes de otros trastornos psiquiátricos (p. ej., depresión mayor, ansiedad y trastornos de la personalidad). antes de comenzar el tratamiento con neobrufen con codeían y durante el tratamiento, deben acordarse con el paciente los objetivos del tratamiento y un plan de interrupción antes del tratamiento y durante este, también debe informarse al paciente del riesgo de tuo y de sus signos, así como de los desenlaces graves. si se manifiestan estos signos, debe indicarse a los pacientes que se pongan en contacto con su médico. después de interrumpir el tratamiento con el fármaco, pueden aparecer síntomas de abstinencia, como inquietud e irritabilidad. se debe supervisar a los pacientes para identificar signos de búsqueda compulsiva del fármaco (p. ej., pedir demasiado pronto la recarga de un medicamento). también se deberá supervisar el uso concomitante de opioides y fármacos psicoactivos (como las benzodiazepinas). para el caso de pacientes con signos y síntomas de tuo, se deberá considerar la consulta con un especialista en adicciones. metabolismo por cyp2d6 la codeína se metaboliza por la enzima hepática cyp2d6 a morfina, su metabolito activo. si un paciente tiene deficiencia o carece completamente de esta enzima, no se obtendrá un efecto analgésico adecuado. las estimaciones indican que hasta un 7% de la población caucásica podría tener esta deficiencia. sin embargo, si el paciente es un metabolizador extenso o ultrarrápido, podría haber un mayor riesgo de desarrollar efectos adversos de toxicidad opioide, incluso a dosis comúnmente prescritas estos pacientes convierten la codeína en morfina rápidamente dando lugar a concentraciones séricas de morfina más altas de lo esperado. los síntomas generales de la toxicidad opioide incluyen confusión, somnolencia, respiración superficial, pupilas contraídas, náuseas, vómitos, estreñimiento y falta de apetito. en casos graves, esto puede incluir síntomas de depresión circulatoria y respiratoria, que pueden suponer un riesgo para la vida, y muy raramente resultar mortales. a continuación, se resumen las estimaciones de prevalencia de metabolizadores ultrarrápidos en diferentes poblaciones: población prevalencia (%) africano/etíope americano africano asiático caucásico griego húngaro europeo del norte otros: 29% 3,4% a 6,5% 1,2% a 2% 3,6% a 6,5% 6,0% 1,9% 1% a 2% el efecto de la depresión respiratoria de la codeína puede manifestarse en presencia de lesiones intracraneales, o bien que las reacciones adversas que puede producir enmascaren el curso clínico de pacientes con traumatismo craneal. en tratamientos prolongados, por su contenido en codeína, existe el riesgo potencial, aunque menor que con otros agonistas opiáceos, de que algunos sujetos desarrollen dependencia y/ tolerancia tolerancia y un abuso potencial del medicamento puede desencadenar un farmacodependencia tanto psíquica como física. la codeína es potencialmente adictiva. se desarrolla dependencia física cuando este medicamento se usa durante mucho tiempo y también existe tolerancia cruzada con otros opiáceos. en vista del desarrollo potencial de dependencia física a la codeína, no se recomienda el tratamiento de larga duración. fenómeno de debe tenerse precaución en pacientes con antecedentes de dependencia química. el uso crónico de codeína también puede producir estreñimiento crónico ya que, aunque se desarrolla cierta tolerancia a los efectos de los opiáceos sobre la motilidad gastrointestinal, los pacientes que toman opiáceos crónicamente siguen sufriendo de estreñimiento. se debe tener precaución en pacientes con desórdenes adictivos. el uso concomitante de productos que contienen opioides (p. ej., codeína) y medicamentos sedantes, como benzodiazepinas o sustancias relacionadas, puede resultar en sedación, depresión respiratoria, coma y muerte. debido a estos riesgos, la prescripción concomitante con estos medicamentos sedantes se debe reservar para pacientes en los que no son posibles otras alternativas. si se toma la decisión de prescribir de forma concomitante productos que contienen opioides (p. ej., codeína) con medicamentos sedantes, se debe utilizar la dosis más baja efectiva y la duración del tratamiento debe ser lo más corta posible. los pacientes deben ser cuidadosamente monitorizados por si aparecen signos y síntomas de depresión respiratoria y sedación. debido a esto, es muy importante informar a los pacientes y sus cuidadores de que deben estar alerta por si aparecen estos síntomas se debe tener precaución al prescribir a mujeres embarazadas. este medicamento no debe ser administrado a mujeres durante el último trimestre de embarazo dado que la codeína puede causar síndrome de abstinencia en el neonato. los analgésicos opioides atraviesan la placenta. la codeína puede prolongar el parto. advertencia a deportistas se informa que este medicamento contiene un componente que se metaboliza a morfina, por lo que puede producir un resultado positivo en los análisis de control de dopaje. población pediátrica uso postoperatorio en niños ha habido informes en la literatura publicada sobre la administración postoperatoria de codeína a niños tras tonsilectomía y/o adenoidectomía para tratamiento de apnea obstructiva del sueño que condujo a acontecimientos adversos raros, pero con riesgo para la vida, incluyendo la muerte todos los niños recibieron dosis de codeína que se encontraban dentro del rango de dosis apropiado; sin embargo, hubo evidencia de que estos niños eran metabolizadores ultra rápidos o extensivos en la conversión de codeína a morfina. niños con la función respiratoria comprometida no se recomienda el uso de codeína en niños cuya función respiratoria pudiera estar afectada incluyendo trastornos neuromusculares, enfermedades cardiacas o respiratorias graves, infecciones de vías respiratorias altas o pulmonares, politraumatismos o procedimientos de cirugía extensiva. estos factores podrían empeorar los síntomas de toxicidad de la morfina. advertencias sobre excipientes: este medicamento contiene menos de 23 mg de sodio (1 mmol) por comprimido; esto es, esencialmente exento de sodio .', 'distance': np.float32(0.61281455)}, {'medicamento': 'ibuprofeno aristogen', 'nombre_medicamento_completo': 'ibuprofeno_aristogen_400_comprimidos_recubiertos_con_pelicula_efg', 'categoria': 'efectos_conducir', 'texto': 'el ibuprofeno generalmente tiene una influencia nula o insignificante en la capacidad para conducir y utilizar máquinas. sin embargo, dado que a dosis más altas pueden producirse efectos adversos en el sistema nervioso central, como cansancio y mareos, los pacientes que están en tratamiento con ibuprofeno pueden ver afectado su tiempo de reacción, lo que debe ser tenido en cuenta a la hora de realizar actividades que requieren una mayor vigilancia, como por ejemplo conducir o utilizar maquinaria. esto se aplica en mayor medida a la combinación con alcohol.', 'distance': np.float32(0.6288705)}, {'medicamento': 'difenadol', 'nombre_medicamento_completo': 'difenadol_400_mg_comprimidos_recubiertos_con_pelicula', 'categoria': 'efectos_conducir', 'texto': 'ibuprofeno generalmente tiene una influencia nula o insignificante en la capacidad para conducir y utilizar máquinas. sin embargo, dado que a dosis más altas pueden producirse efectos adversos en el sistema nervioso central, como cansancio y mareos, los pacientes que están en tratamiento con ibuprofeno pueden ver afectado su tiempo de reacción, lo que debe ser tenido en cuenta a la hora de realizar actividades que requieren una mayor vigilancia, como por ejemplo conducir o utilizar maquinaria. esto se aplica en mayor medida a la combinación con alcohol.', 'distance': np.float32(0.6384273)}, {'medicamento': 'diltix', 'nombre_medicamento_completo': 'diltix_200_mg_comprimidos_recubiertos_con_pelicula_efg', 'categoria': 'efectos_conducir', 'texto': 'ibuprofeno generalmente tiene una influencia nula o insignificante en la capacidad para conducir y utilizar máquinas. sin embargo, dado que a dosis más altas pueden producirse efectos adversos en el sistema nervioso central, como cansancio y mareos, los pacientes que están en tratamiento con ibuprofeno pueden ver afectado su tiempo de reacción, lo que debe ser tenido en cuenta a la hora de realizar actividades que requieren una mayor vigilancia, como por ejemplo conducir o utilizar maquinaria. esto se aplica en mayor medida a la combinación con alcohol.', 'distance': np.float32(0.6384273)}, {'medicamento': 'diltix', 'nombre_medicamento_completo': 'diltix_400_mg_comprimidos_recubiertos_con_pelicula_efg', 'categoria': 'efectos_conducir', 'texto': 'ibuprofeno generalmente tiene una influencia nula o insignificante en la capacidad para conducir y utilizar máquinas. sin embargo, dado que a dosis más altas pueden producirse efectos adversos en el sistema nervioso central, como cansancio y mareos, los pacientes que están en tratamiento con ibuprofeno pueden ver afectado su tiempo de reacción, lo que debe ser tenido en cuenta a la hora de realizar actividades que requieren una mayor vigilancia, como por ejemplo conducir o utilizar maquinaria. esto se aplica en mayor medida a la combinación con alcohol.', 'distance': np.float32(0.6384273)}]\n",
      "Contexto: \n",
      "Fragmento 1:\n",
      "Medicamento: ibuprofeno sandoz\n",
      "Categoría: efectos_conducir\n",
      "Información: para el uso a corto plazo de ibuprofeno, no es necesario tomar precauciones especiales.\n",
      "\n",
      "Fragmento 2:\n",
      "Medicamento: ibuprofeno sandoz\n",
      "Categoría: efectos_conducir\n",
      "Información: para el uso a corto plazo de ibuprofeno, no es necesario tomar precauciones especiales.\n",
      "\n",
      "Fragmento 3:\n",
      "Medicamento: ibuprofeno ambah\n",
      "Categoría: incompatibilidades\n",
      "Información: ibuprofeno ambah no debe mezclarse con otros medicamentos.\n",
      "\n",
      "Fragmento 4:\n",
      "Medicamento: ibuprofeno cinfa\n",
      "Categoría: indicaciones\n",
      "Información: ibuprofeno está indicado en niños a partir de 3 meses y hasta 12 años para el: alivio sintomático de los dolores ocasionales leves o moderados. estados febriles.\n",
      "\n",
      "Fragmento 5:\n",
      "Medicamento: eudorlin infantil\n",
      "Categoría: interacciones\n",
      "Información: el ibuprofeno (al igual que otros aine) debe combinarse con precaución con los siguientes medicamentos: otros aine, incluyendo salicilatos: la administración concomitante de diferentes aine puede aumentar el riesgo de úlceras gastrointestinales y hemorragias debido a un efecto sinérgico. por tanto, debe evitarse el uso concomitante de ibuprofeno con otros aine digoxina, fenitoina, litio: el uso concomitante de eudorlin infantil con digoxina, fenitoina y litio puede aumentar los niveles séricos de estos medicamentos. generalmente, no se requiere un control de los niveles séricos de digoxina, fenitoina y litio si se usan correctamente (máximo a partir de los 3 días). diuréticos, inhibidores del eca, betabloqueantes y antagonistas de angiotensina ii: los aine pueden reducir el efecto de los diuréticos y de otros medicamentos antihipertensivos. en pacientes con deterioro de la función renal (p. ej., pacientes deshidratados o pacientes de edad avanzada con deterioro de la función renal) la administración combinada de inhibidores de eca, betabloqueantes o antagonistas de la angiotensina ii y agentes que inhiben la ciclooxigenasa pueden ocasionar un deterioro adicional de la función renal, incluso una posible insuficiencia renal aguda, que normalmente es reversible. por tanto, esta combinación debe administrarse con precaución, especialmente en personas de edad avanzada. los pacientes deberán hidratarse adecuadamente y una vez comenzado el tratamiento concomitante deberán someterse a un control periódico de la función renal. la administración concomitante de eudorlin infantil y diuréticos ahorradores de potasio puede dar lugar a hiperpotasemia. corticosteroides: aumento del riesgo de úlcera o hemorragia gastrointestinal agentes antiagragantes plaquetarios e inhibidores selectivos de la recaptación de serotonina (isrs): aumento del riesgo de hemorragia gastrointestinal ácido acetilsalicílico en general, no se recomienda la administración concomitante de ibuprofeno y ácido a...\n",
      "\n",
      "Fragmento 6:\n",
      "Medicamento: neobrufen con codeina\n",
      "Categoría: advertencias\n",
      "Información: las reacciones adversas se pueden minimizar utilizando la dosis eficaz más baja durante el menor tiempo necesario para aliviar los síntomas y secciones posteriores). al igual que sucede con otros opioides, si el control del dolor es insuficiente pese al aumento de la dosis de codeína, debe considerarse la posibilidad de hiperalgesia inducida por fármacos. puede estar indicada la reducción de la dosis o la revisión del tratamiento. advertencias debidas al ibuprofeno enmascaramiento de los síntomas de infecciones subyacentes: como cualquier otro aine, el ibuprofeno puede enmascarar los síntomas de una infección, lo que puede retrasar el inicio del tratamiento adecuado y, por tanto, empeorar el desenlace de la infección. esto se ha observado en la neumonía bacteriana extrahospitalaria y en las complicaciones bacterianas de la varicela. cuando se administre ibuprofeno para aliviar la fiebre o el dolor relacionados con una infección, se recomienda vigilar la infección. en entornos no hospitalarios, el paciente debe consultar a un médico si los síntomas persisten o empeoran. con el uso prolongado de analgésicos pueden aparecer dolores de cabeza que no deben ser tratados incrementando la dosis del producto. las reacciones adversas provocadas por ibuprofeno, especialmente las relacionadas con el tracto gastrointestinal o sistema nervioso, pueden verse aumentadas por el consumo de alcohol. riesgos gastrointestinales hemorragias gastrointestinales, úlceras y perforaciones: durante el tratamiento con antiinflamatorios no esteroideos (aines) entre ibuprofeno, se han notificado hemorragias gastrointestinales, úlceras y perforaciones (que pueden ser mortales) en cualquier momento del mismo, con o sin síntomas previos de alerta y con o sin antecedentes previos de acontecimientos gastrointestinales graves previos los que se encuentra el riesgo de hemorragia gastrointestinal, úlcera o perforación es mayor cuando se utilizan dosis crecientes de aines, en pacientes con antecedentes de...\n",
      "\n",
      "Fragmento 7:\n",
      "Medicamento: ibuprofeno aristogen\n",
      "Categoría: efectos_conducir\n",
      "Información: el ibuprofeno generalmente tiene una influencia nula o insignificante en la capacidad para conducir y utilizar máquinas. sin embargo, dado que a dosis más altas pueden producirse efectos adversos en el sistema nervioso central, como cansancio y mareos, los pacientes que están en tratamiento con ibuprofeno pueden ver afectado su tiempo de reacción, lo que debe ser tenido en cuenta a la hora de realizar actividades que requieren una mayor vigilancia, como por ejemplo conducir o utilizar maquinaria. esto se aplica en mayor medida a la combinación con alcohol.\n",
      "\n",
      "Fragmento 8:\n",
      "Medicamento: difenadol\n",
      "Categoría: efectos_conducir\n",
      "Información: ibuprofeno generalmente tiene una influencia nula o insignificante en la capacidad para conducir y utilizar máquinas. sin embargo, dado que a dosis más altas pueden producirse efectos adversos en el sistema nervioso central, como cansancio y mareos, los pacientes que están en tratamiento con ibuprofeno pueden ver afectado su tiempo de reacción, lo que debe ser tenido en cuenta a la hora de realizar actividades que requieren una mayor vigilancia, como por ejemplo conducir o utilizar maquinaria. esto se aplica en mayor medida a la combinación con alcohol.\n",
      "\n",
      "Fragmento 9:\n",
      "Medicamento: diltix\n",
      "Categoría: efectos_conducir\n",
      "Información: ibuprofeno generalmente tiene una influencia nula o insignificante en la capacidad para conducir y utilizar máquinas. sin embargo, dado que a dosis más altas pueden producirse efectos adversos en el sistema nervioso central, como cansancio y mareos, los pacientes que están en tratamiento con ibuprofeno pueden ver afectado su tiempo de reacción, lo que debe ser tenido en cuenta a la hora de realizar actividades que requieren una mayor vigilancia, como por ejemplo conducir o utilizar maquinaria. esto se aplica en mayor medida a la combinación con alcohol.\n",
      "\n",
      "Fragmento 10:\n",
      "Medicamento: diltix\n",
      "Categoría: efectos_conducir\n",
      "Información: ibuprofeno generalmente tiene una influencia nula o insignificante en la capacidad para conducir y utilizar máquinas. sin embargo, dado que a dosis más altas pueden producirse efectos adversos en el sistema nervioso central, como cansancio y mareos, los pacientes que están en tratamiento con ibuprofeno pueden ver afectado su tiempo de reacción, lo que debe ser tenido en cuenta a la hora de realizar actividades que requieren una mayor vigilancia, como por ejemplo conducir o utilizar maquinaria. esto se aplica en mayor medida a la combinación con alcohol.\n",
      "\n",
      "Usando dispositivo: mps\n",
      "Respuesta generada: Los efectos a la hora de conducir del ibuprofeno pueden variar dependiendo de la dosis y duración del tratamiento. En general, el ibuprofeno no suele tener una gran influencia en la capacidad para conducir y utilizar máquinas, pero a dosis más altas puede producir efectos adversos en el sistema nerviosa central, como cansancio y mareos, que pueden afectar el tiempo de reacción y la capacidad para conducir. Es importante tener en cuenta estas posibles consecuencias y tomar medidas preventivas, como reducir la dosis o el tiempo de tratamiento, o evitar realizar actividades que requieran una mayor vigilancia mientras se está en tratamiento con ibuprofeno.\n"
     ]
    }
   ],
   "source": [
    "#query = \"¿Cuáles son las reacciones adversas del paracetamol?\"\n",
    "query = \"¿Cuáles son los efectos a la hora de conducir del ibuprofeno?\" \n",
    "#query = \"¿Cuáles son las reacciones adversas del ibuprofeno?\"\n",
    "response = answer_query(query, model, tokenizer)\n",
    "print(\"Respuesta generada:\", response)"
   ]
  },
  {
   "cell_type": "code",
   "execution_count": null,
   "metadata": {},
   "outputs": [],
   "source": []
  }
 ],
 "metadata": {
  "kernelspec": {
   "display_name": "PharmAI",
   "language": "python",
   "name": "python3"
  },
  "language_info": {
   "codemirror_mode": {
    "name": "ipython",
    "version": 3
   },
   "file_extension": ".py",
   "mimetype": "text/x-python",
   "name": "python",
   "nbconvert_exporter": "python",
   "pygments_lexer": "ipython3",
   "version": "3.11.11"
  }
 },
 "nbformat": 4,
 "nbformat_minor": 2
}
