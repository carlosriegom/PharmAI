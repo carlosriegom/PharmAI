{
 "cells": [
  {
   "cell_type": "markdown",
   "metadata": {},
   "source": [
    "# **Crawler**\n",
    "---"
   ]
  },
  {
   "cell_type": "code",
   "execution_count": null,
   "metadata": {},
   "outputs": [],
   "source": [
    "import os\n",
    "import PyPDF2\n",
    "\n",
    "pdf_folder = '../../data/inputs/1_data_acquisition/crawler'\n",
    "text_folder = '../../data/inputs/1_data_acquisition/wrangler'  # Carpeta de salida para los txt\n",
    "\n",
    "# Crear la carpeta de salida si no existe\n",
    "if not os.path.exists(text_folder):\n",
    "    os.makedirs(text_folder)\n",
    "\n",
    "# Iterar sobre cada archivo en la carpeta pdf_folder\n",
    "for filename in os.listdir(pdf_folder):\n",
    "    if filename.lower().endswith('.pdf'):\n",
    "        pdf_path = os.path.join(pdf_folder, filename)\n",
    "        txt_filename = os.path.splitext(filename)[0] + '.txt'\n",
    "        text_path = os.path.join(text_folder, txt_filename)\n",
    "\n",
    "        try:\n",
    "            with open(pdf_path, \"rb\") as file:\n",
    "                reader = PyPDF2.PdfReader(file)\n",
    "                text = \"\\n\".join(\n",
    "                    [page.extract_text() for page in reader.pages if page.extract_text() is not None]\n",
    "                )\n",
    "\n",
    "            with open(text_path, \"w\", encoding=\"utf-8\") as file:\n",
    "                file.write(text)\n",
    "            print(f\"Texto guardado en: {text_path}\")\n",
    "\n",
    "        except Exception as e:\n",
    "            print(f\"Error procesando {pdf_path}: {e}\")\n"
   ]
  }
 ],
 "metadata": {
  "language_info": {
   "name": "python"
  }
 },
 "nbformat": 4,
 "nbformat_minor": 2
}
