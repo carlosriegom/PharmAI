{
 "cells": [
  {
   "cell_type": "code",
   "execution_count": null,
   "metadata": {},
   "outputs": [],
   "source": [
    "import json\n",
    "import pandas as pd\n",
    "\n",
    "\n",
    "# Cargar los diccionarios desde un archivo JSON\n",
    "with open(\"../../assets/grupos_farmacologicos.json\", \"r\", encoding=\"utf-8\") as f:\n",
    "    diccionarios = json.load(f)\n",
    "\n",
    "# Obtener los diccionarios\n",
    "grupo_anatomico_dict = diccionarios[\"grupo_anatomico\"]\n",
    "subgrupo_terapeutico_dict = diccionarios[\"subgrupo_terapeutico\"]\n",
    "subgrupo_farmacologico_dict = diccionarios[\"subgrupo_farmacologico\"]"
   ]
  },
  {
   "cell_type": "code",
   "execution_count": null,
   "metadata": {},
   "outputs": [],
   "source": [
    "def mapear_atc(codigo_atc):\n",
    "    grupo_anat = grupo_anatomico_dict.get(codigo_atc[0], \"Desconocido\")\n",
    "    subgr_ter = subgrupo_terapeutico_dict.get(codigo_atc[:3], \"Desconocido\")\n",
    "    subgr_farma = subgrupo_farmacologico_dict.get(codigo_atc[:4], \"Desconocido\")\n",
    "    return {\n",
    "        \"grupo_anatomico\": grupo_anat,\n",
    "        \"subgrupo_terapeutico\": subgr_ter,\n",
    "        \"subgrupo_farmacologico\": subgr_farma,\n",
    "    }"
   ]
  },
  {
   "cell_type": "code",
   "execution_count": null,
   "metadata": {},
   "outputs": [
    {
     "data": {
      "text/html": [
       "<div>\n",
       "<style scoped>\n",
       "    .dataframe tbody tr th:only-of-type {\n",
       "        vertical-align: middle;\n",
       "    }\n",
       "\n",
       "    .dataframe tbody tr th {\n",
       "        vertical-align: top;\n",
       "    }\n",
       "\n",
       "    .dataframe thead th {\n",
       "        text-align: right;\n",
       "    }\n",
       "</style>\n",
       "<table border=\"1\" class=\"dataframe\">\n",
       "  <thead>\n",
       "    <tr style=\"text-align: right;\">\n",
       "      <th></th>\n",
       "      <th>codigo_atc</th>\n",
       "      <th>grupo_anatomico</th>\n",
       "      <th>subgrupo_terapeutico</th>\n",
       "      <th>subgrupo_farmacologico</th>\n",
       "    </tr>\n",
       "  </thead>\n",
       "  <tbody>\n",
       "    <tr>\n",
       "      <th>0</th>\n",
       "      <td>D01AE09</td>\n",
       "      <td>Dermatológicos</td>\n",
       "      <td>Agentes antifúngicos para uso dermatológico</td>\n",
       "      <td>Agentes antifúngicos tópicos</td>\n",
       "    </tr>\n",
       "  </tbody>\n",
       "</table>\n",
       "</div>"
      ],
      "text/plain": [
       "  codigo_atc grupo_anatomico                         subgrupo_terapeutico  \\\n",
       "0    D01AE09  Dermatológicos  Agentes antifúngicos para uso dermatológico   \n",
       "\n",
       "         subgrupo_farmacologico  \n",
       "0  Agentes antifúngicos tópicos  "
      ]
     },
     "metadata": {},
     "output_type": "display_data"
    }
   ],
   "source": [
    "import pandas as pd\n",
    "\n",
    "# Cargar el archivo JSON con las fichas técnicas\n",
    "medicamentos_df = pd.read_json(\"../../data/outputs/fichas_tecnicas.json\")\n",
    "\n",
    "# Eliminar duplicados\n",
    "medicamentos_df = medicamentos_df.drop_duplicates()\n",
    "\n",
    "# Llenar valores nulos con 'Desconocido'\n",
    "medicamentos_df = medicamentos_df.fillna(\"Desconocido\")\n",
    "\n",
    "# Aplicar la función de mapeo a la columna 'codigo_atc'\n",
    "mapeo_atc = medicamentos_df[\"codigo_atc\"].apply(mapear_atc)\n",
    "\n",
    "# Crear nuevas columnas en el DataFrame con los resultados del mapeo\n",
    "medicamentos_df[\"grupo_anatomico\"] = mapeo_atc.apply(lambda x: x[\"grupo_anatomico\"])\n",
    "medicamentos_df[\"subgrupo_terapeutico\"] = mapeo_atc.apply(\n",
    "    lambda x: x[\"subgrupo_terapeutico\"]\n",
    ")\n",
    "medicamentos_df[\"subgrupo_farmacologico\"] = mapeo_atc.apply(\n",
    "    lambda x: x[\"subgrupo_farmacologico\"]\n",
    ")\n",
    "\n",
    "# Verificar cómo quedó el DataFrame\n",
    "display(\n",
    "    medicamentos_df[\n",
    "        [\n",
    "            \"codigo_atc\",\n",
    "            \"grupo_anatomico\",\n",
    "            \"subgrupo_terapeutico\",\n",
    "            \"subgrupo_farmacologico\",\n",
    "        ]\n",
    "    ].head()\n",
    ")"
   ]
  }
 ],
 "metadata": {
  "language_info": {
   "name": "python"
  }
 },
 "nbformat": 4,
 "nbformat_minor": 2
}
